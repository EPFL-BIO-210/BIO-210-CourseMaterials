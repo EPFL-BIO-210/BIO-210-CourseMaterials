{
 "cells": [
  {
   "cell_type": "markdown",
   "id": "2ee206db-371b-4826-ac54-61fd47b23571",
   "metadata": {},
   "source": [
    "BIO-210: Projects in Informatics for SV\n",
    "# Python Introduction II - Data Types 2 and Numpy"
   ]
  },
  {
   "cell_type": "markdown",
   "id": "65ffd059-7627-4b0c-babf-853fa42e991d",
   "metadata": {},
   "source": [
    "## Data types - Containers II\n",
    "The container datatypes are extremely useful in Python. Last time you learned about lists and dictionaries. Today, we have a look on tuples and sets."
   ]
  },
  {
   "cell_type": "markdown",
   "id": "bc79f68d-519b-4091-9c27-17fedd316486",
   "metadata": {},
   "source": [
    "### Tuples\n",
    "Tuples, like lists, are an ordered collection of values. The main difference between lists and tuples is that, while the former are mutable objects, **tuples are immutable**. This means that it is not possible to change the value of one of the elements of a tuple, unless it is a mutable object itself. To make things clear, a tuple of integers cannot be modified. However, a tuple of lists still allows the contained lists to be modified (in this case the tuple just stores a reference to the actual list, which is still mutable). In short, tuples are useful containers when the content of the collection is not expected to change or the number of objects to increase/decrease. Removing or adding an element to a tuple, differently from what happens with lists, is an expensive operation, as it creates an entirely new tuple. Tuples can be created by direct definition or from an iterable object."
   ]
  },
  {
   "cell_type": "code",
   "execution_count": 1,
   "id": "8deb86fc-a1e1-4ca7-bfb1-964cfcc6fe84",
   "metadata": {},
   "outputs": [
    {
     "name": "stdout",
     "output_type": "stream",
     "text": [
      "x = (1, 3, 5, 6) , type of x:  <class 'tuple'>\n",
      "The element of the tuple in position 2 is 5\n",
      "Tuple including the 10 digits:  (0, 1, 2, 3, 4, 5, 6, 7, 8, 9)\n"
     ]
    }
   ],
   "source": [
    "x = (1, 3, 5, 6)\n",
    "print(\"x = (1, 3, 5, 6) , type of x: \", type(x))\n",
    "\n",
    "x_2 = x[2]\n",
    "print(\"The element of the list in position 2 is\", x_2)\n",
    "\n",
    "x = tuple(range(10))\n",
    "print(\"Tuple including the 10 digits: \", x)"
   ]
  },
  {
   "cell_type": "markdown",
   "id": "9b11b6d2-689c-43c8-9410-9cdde137906f",
   "metadata": {},
   "source": [
    "Tuples can be conveniently looped through with a for statement. Unlike lists, tuples do not offer any \"tuple comprehension\" syntax. The keyword <code>tuple</code> is necessary to define a tuple from a generator."
   ]
  },
  {
   "cell_type": "code",
   "execution_count": 2,
   "id": "fc49b48d-03b6-4ab7-921b-ead48a3d2b56",
   "metadata": {},
   "outputs": [
    {
     "name": "stdout",
     "output_type": "stream",
     "text": [
      "(1, 9, 25, 36)\n"
     ]
    }
   ],
   "source": [
    "x = (1, 3, 5, 6)\n",
    "x_squared = tuple(el ** 2 for el in x)\n",
    "print(x_squared)"
   ]
  },
  {
   "cell_type": "markdown",
   "id": "2bb973f1-f414-43d5-a0e4-e0521951a7de",
   "metadata": {},
   "source": [
    "### Sets\n",
    "\n",
    "Sets, similarly to their mathematical counterpart, are unordered collections of unique objects. Like lists, as set can be created by directly defining its elements of by passing an iterable object to the function set()."
   ]
  },
  {
   "cell_type": "code",
   "execution_count": 3,
   "id": "1cc5975b-b512-4042-83e1-06b2df49fdfc",
   "metadata": {},
   "outputs": [
    {
     "name": "stdout",
     "output_type": "stream",
     "text": [
      "x = {1, 3, 5, 6, 3} , type of x:  <class 'set'>\n",
      "Resulting set:  {1, 3, 5, 6}  NB: all elements are unique!\n",
      "Set including the 10 digits:  {0, 1, 2, 3, 4, 5, 6, 7, 8, 9}\n"
     ]
    }
   ],
   "source": [
    "x = {1, 3, 5, 6, 3}\n",
    "print(\"x = {1, 3, 5, 6, 3} , type of x: \", type(x))\n",
    "print(\"Resulting set: \", x, \" NB: all elements are unique!\")\n",
    "\n",
    "x = set(range(10))\n",
    "print(\"Set including the 10 digits: \", x)"
   ]
  },
  {
   "cell_type": "markdown",
   "id": "ced3d874-ed47-407e-82a5-978888fa2d35",
   "metadata": {},
   "source": [
    "Sets have many useful operations, such as **add**, to add a single element, or **update**, to add all the elements in an iterable. With the methods **remove** and **discard** you can remove a single element of a set. <code>remove</code> will raise an error if the element is not in the set, while <code>discard</code> will not."
   ]
  },
  {
   "cell_type": "code",
   "execution_count": 4,
   "id": "7c34a7ba-0a7c-427d-8bd0-01aeb93b4105",
   "metadata": {},
   "outputs": [
    {
     "name": "stdout",
     "output_type": "stream",
     "text": [
      "Initial set:  {1, 2, 3}\n",
      "After adding 6:  {1, 2, 3, 6}\n",
      "After adding the numbers between 5 and 7:  {1, 2, 3, 5, 6, 7}\n",
      "After removing 3:  {1, 2, 5, 6, 7}\n"
     ]
    }
   ],
   "source": [
    "x = {1, 2, 3}\n",
    "print(\"Initial set: \", x)\n",
    "\n",
    "x.add(6)\n",
    "print(\"After adding 6: \", x)\n",
    "\n",
    "x.update(range(5, 8))\n",
    "print(\"After adding the numbers between 5 and 7: \", x)\n",
    "\n",
    "x.remove(3)\n",
    "print(\"After removing 3: \", x)"
   ]
  },
  {
   "cell_type": "markdown",
   "id": "420e135c-b2c8-435a-92a3-76fb5393a3c5",
   "metadata": {},
   "source": [
    "As no ordering is defined, it is not possible to access a specific element of a set by index. You can instead iterate through the elements of a set with a **for loop** or with the **set comprehension** syntax. Note that the definition ordering is not preserved when printing!"
   ]
  },
  {
   "cell_type": "code",
   "execution_count": 5,
   "id": "3022fd10-327a-4349-bdb8-2479d83d56ad",
   "metadata": {},
   "outputs": [
    {
     "name": "stdout",
     "output_type": "stream",
     "text": [
      "{1, 36, 9, 25}\n"
     ]
    }
   ],
   "source": [
    "x = {1, 3, 5, 6}\n",
    "\n",
    "x_squared = set()\n",
    "for el in x:\n",
    "    x_squared.add(el**2)\n",
    "print(x_squared)"
   ]
  },
  {
   "cell_type": "code",
   "execution_count": 6,
   "id": "80bff843-2762-4640-9e7d-68c5d4db1d6d",
   "metadata": {},
   "outputs": [
    {
     "name": "stdout",
     "output_type": "stream",
     "text": [
      "{1, 36, 9, 25}\n"
     ]
    }
   ],
   "source": [
    "x = {1, 3, 5, 6}\n",
    "x_squared = {el ** 2 for el in x}\n",
    "print(x_squared)"
   ]
  },
  {
   "cell_type": "markdown",
   "id": "c6321bba-350e-47ed-9a35-5e7641bb0277",
   "metadata": {},
   "source": [
    "Sets are especially useful because of their support to the operations <code>difference</code>, <code>intersection</code> and <code>union</code>. Their behavior is the same as the corresponding mathematical operations:"
   ]
  },
  {
   "cell_type": "code",
   "execution_count": 7,
   "id": "1a8c51a5-2aeb-42ef-ab63-2a702be65897",
   "metadata": {},
   "outputs": [
    {
     "name": "stdout",
     "output_type": "stream",
     "text": [
      "A =  {2, 5, -1}\n",
      "B =  {9, 4, 5}\n",
      "A minus B:  {2, -1}\n",
      "A intersection B:  {5}\n",
      "A union B:  {2, 4, 5, 9, -1}\n"
     ]
    }
   ],
   "source": [
    "a = {2, 5, -1}\n",
    "b = {4, 5, 9}\n",
    "\n",
    "print(\"A = \", a)\n",
    "print(\"B = \", b)\n",
    "print(\"A minus B: \", a.difference(b))\n",
    "print(\"A intersection B: \", a.intersection(b))\n",
    "print(\"A union B: \", a.union(b))"
   ]
  },
  {
   "cell_type": "markdown",
   "id": "2718b3dc-1594-4a58-9729-86c60e253d24",
   "metadata": {},
   "source": [
    "## Numpy"
   ]
  },
  {
   "cell_type": "markdown",
   "id": "24f00818-5001-447a-ac01-2df985e9a3d5",
   "metadata": {},
   "source": [
    "**Numpy** is a widely used Python library for scientific computing. Its long list of functionalities and great performance have made it a fundamental tool for virtually any scientist using python. It is commonly imported with the nickname **np**"
   ]
  },
  {
   "cell_type": "code",
   "execution_count": 8,
   "id": "57ce8106-38ad-447b-ac20-9bd728309cad",
   "metadata": {},
   "outputs": [],
   "source": [
    "import numpy as np"
   ]
  },
  {
   "cell_type": "markdown",
   "id": "202dca16-47eb-4fd8-b5cf-39eeecafe3f4",
   "metadata": {},
   "source": [
    "### Numpy arrays\n",
    "The basic data type of numpy is the multidimensional array. The main way to create one is starting from a (nested) collection (e.g. a list). The array will have as many dimensions as the depth of the list (a list of lists has depth 2, a list of lists of lists 3, etc.)."
   ]
  },
  {
   "cell_type": "code",
   "execution_count": 9,
   "id": "40957d82-64fb-4d2b-b7d4-58c8994031b7",
   "metadata": {},
   "outputs": [
    {
     "name": "stdout",
     "output_type": "stream",
     "text": [
      "a = [3 4 1] , shape of a:  (3,)\n",
      "b =\n",
      " [[ 1  2]\n",
      " [ 4 -1]\n",
      " [ 3  3]] , shape of b:  (3, 2)\n"
     ]
    }
   ],
   "source": [
    "a = np.array([3, 4, 1])\n",
    "b = np.array([[1, 2], [4, -1], [3, 3]])\n",
    "print(\"a =\", a, \", shape of a: \", a.shape)\n",
    "print(\"b =\\n\", b, \", shape of b: \", b.shape)"
   ]
  },
  {
   "cell_type": "markdown",
   "id": "0dbaf581-df7b-4ee4-9020-ee55f49284f2",
   "metadata": {},
   "source": [
    "In the previous examples numpy can automatically infer the dimensions of the input data and organize them accordingly (single and bi dimensional arrays). Other common ways of initializing arrays are with constant or random values. Numpy offers the handy functions <code>zeros</code>, <code>ones</code> and the module <code>random</code>. For example, <code>random.randn</code> samples the elements of the matrix from a standard normal distribution."
   ]
  },
  {
   "cell_type": "code",
   "execution_count": 10,
   "id": "a755b664-bf87-4679-baf0-3d5c78310109",
   "metadata": {},
   "outputs": [
    {
     "name": "stdout",
     "output_type": "stream",
     "text": [
      "ones((3, 4)) =\n",
      "[[1. 1. 1. 1.]\n",
      " [1. 1. 1. 1.]\n",
      " [1. 1. 1. 1.]]\n",
      "\n",
      "zeros((2, 5)) =\n",
      "[[0. 0. 0. 0. 0.]\n",
      " [0. 0. 0. 0. 0.]]\n",
      "\n",
      "random.randn(3, 3) =\n",
      "[[-0.26821202  0.49644162  0.16394908]\n",
      " [-0.24012477 -1.34971729 -0.79718377]\n",
      " [ 0.84081492 -0.68174241  0.72064242]]\n"
     ]
    }
   ],
   "source": [
    "a = np.ones((3, 4))\n",
    "print(\"ones((3, 4)) =\")\n",
    "print(a)\n",
    "\n",
    "b = np.zeros((2, 5))\n",
    "print(\"\\nzeros((2, 5)) =\")\n",
    "print(b)\n",
    "\n",
    "c = np.random.randn(3, 3)\n",
    "print(\"\\nrandom.randn(3, 3) =\")\n",
    "print(c)"
   ]
  },
  {
   "cell_type": "markdown",
   "id": "5499e810-e87f-4395-acb5-0dbcb1abaef7",
   "metadata": {},
   "source": [
    "Other useful array creation functions include <code>arange</code> and <code>linspace</code>. The first one behaves as <code>range</code>, but returning an array. The second genertes an array of a given number of equally spaced values between a minimum and a maximum."
   ]
  },
  {
   "cell_type": "code",
   "execution_count": 11,
   "id": "fe71289b-22d1-4f9d-bf7a-7f60c832fce7",
   "metadata": {},
   "outputs": [
    {
     "name": "stdout",
     "output_type": "stream",
     "text": [
      "arange(3, 10) = [3 4 5 6 7 8 9]\n",
      "linspace(3, 4, 11) = [3.  3.1 3.2 3.3 3.4 3.5 3.6 3.7 3.8 3.9 4. ]\n"
     ]
    }
   ],
   "source": [
    "a = np.arange(3, 10)\n",
    "print(\"arange(3, 10) =\", a)\n",
    "\n",
    "b = np.linspace(3, 4, 11)\n",
    "print(\"linspace(3, 4, 11) =\", b)"
   ]
  },
  {
   "cell_type": "markdown",
   "id": "05255a12-9201-4dc0-9d09-a96a59ffee7f",
   "metadata": {},
   "source": [
    "### Operations and functions\n",
    "\n",
    "Multidimensional arrays obviously support all the basic mathematical operations. The default operators perform element-wise additions, subtractions, multiplications and divisions."
   ]
  },
  {
   "cell_type": "code",
   "execution_count": 12,
   "id": "73d87551-7c12-45f8-a2cf-34af9bf183fb",
   "metadata": {},
   "outputs": [
    {
     "name": "stdout",
     "output_type": "stream",
     "text": [
      "a = [ 1  3 -2] \tb = [ 4 -1  2]\n",
      "a + b =  [5 2 0]\n",
      "a - b =  [-3  4 -4]\n",
      "a * b =  [ 4 -3 -4]\n",
      "a / b =  [ 0.25 -3.   -1.  ]\n"
     ]
    }
   ],
   "source": [
    "a = np.array([1, 3, -2])\n",
    "b = np.array([4, -1, 2])\n",
    "s = a + b\n",
    "d = a - b\n",
    "p = a * b\n",
    "q = a / b\n",
    "\n",
    "print(\"a =\", a, \"\\tb =\", b)\n",
    "print(\"a + b = \", s)\n",
    "print(\"a - b = \", d)\n",
    "print(\"a * b = \", p)\n",
    "print(\"a / b = \", q)"
   ]
  },
  {
   "cell_type": "markdown",
   "id": "78d817d5-3434-4086-871a-4a32e3fba6ec",
   "metadata": {},
   "source": [
    "Also many common analytic functions are implemented in Numpy, e.g, <code>log</code>, <code>exp</code>, <code>sin</code>, <code>sqrt</code> and many others. They are also applied element-wise to multidimensional arrays.\n",
    "\n",
    "**Exercise 1.** Print the sine of 100 equally spaced values in the interval [-5, 5]"
   ]
  },
  {
   "cell_type": "code",
   "execution_count": 13,
   "id": "235481c9-6901-4812-bead-db70603ac3ba",
   "metadata": {},
   "outputs": [
    {
     "name": "stdout",
     "output_type": "stream",
     "text": [
      "[ 0.95892427  0.98264051  0.99633934  0.99988113  0.99322975  0.97645303\n",
      "  0.94972199  0.91330913  0.86758566  0.8130177   0.75016154  0.67965796\n",
      "  0.60222569  0.51865411  0.42979519  0.33655477  0.23988339  0.14076655\n",
      "  0.04021468 -0.06074715 -0.1610897  -0.25979004 -0.35584199 -0.44826636\n",
      " -0.53612093 -0.61851008 -0.69459392 -0.76359681 -0.82481532 -0.87762535\n",
      " -0.92148855 -0.95595775 -0.98068157 -0.99540796 -0.99998679 -0.99437139\n",
      " -0.978619   -0.95289021 -0.91744731 -0.87265161 -0.81895978 -0.75691917\n",
      " -0.68716224 -0.61040014 -0.52741539 -0.43905397 -0.34621667 -0.24984992\n",
      " -0.1509361  -0.05048358  0.05048358  0.1509361   0.24984992  0.34621667\n",
      "  0.43905397  0.52741539  0.61040014  0.68716224  0.75691917  0.81895978\n",
      "  0.87265161  0.91744731  0.95289021  0.978619    0.99437139  0.99998679\n",
      "  0.99540796  0.98068157  0.95595775  0.92148855  0.87762535  0.82481532\n",
      "  0.76359681  0.69459392  0.61851008  0.53612093  0.44826636  0.35584199\n",
      "  0.25979004  0.1610897   0.06074715 -0.04021468 -0.14076655 -0.23988339\n",
      " -0.33655477 -0.42979519 -0.51865411 -0.60222569 -0.67965796 -0.75016154\n",
      " -0.8130177  -0.86758566 -0.91330913 -0.94972199 -0.97645303 -0.99322975\n",
      " -0.99988113 -0.99633934 -0.98264051 -0.95892427]\n"
     ]
    }
   ],
   "source": [
    "# Your code here\n",
    "x_vals = np.linspace(-5, 5, 100)\n",
    "print(np.sin(x_vals))"
   ]
  },
  {
   "cell_type": "markdown",
   "id": "68f35f01-02bc-41aa-b882-dc002a21cc79",
   "metadata": {},
   "source": [
    "**Exercise 2.** Compute the square root of the first 10 integers using Numpy functions"
   ]
  },
  {
   "cell_type": "code",
   "execution_count": 14,
   "id": "a4a06c58-4b68-4e28-b2dd-60e59686584a",
   "metadata": {},
   "outputs": [
    {
     "name": "stdout",
     "output_type": "stream",
     "text": [
      "[0.         1.         1.41421356 1.73205081 2.         2.23606798\n",
      " 2.44948974 2.64575131 2.82842712 3.        ]\n"
     ]
    }
   ],
   "source": [
    "# Your code here\n",
    "x_vals = np.arange(10)\n",
    "print(np.sqrt(x_vals))"
   ]
  },
  {
   "cell_type": "markdown",
   "id": "958e0668-c06e-4f5d-86bc-a9cccf83b334",
   "metadata": {},
   "source": [
    "In Numpy we also find functions for vector and matrix operations. For example, the function <code>inner</code> implements the scalar product between two arrays. The function <code>dot</code> implements the matrix multiplication operation in the mathematical sense (scalar products between all the rows of the first matrix and the columns of the second), which can also be used to compute the matrix-vector product. These implementations of linear algebra operations are highly optimized and are much faster than an implementation with for loops one could write in Python. It is therefore important to use numpy functions as much as possible when working with array to get the maximum efficiency."
   ]
  },
  {
   "cell_type": "markdown",
   "id": "950fb6b7-6e6c-4ba9-9a89-e282cc6d913a",
   "metadata": {},
   "source": [
    "**Exercise 3.** Define two random matrices of size (3x4) and (4x2) and compute the product matrix. Is the resulting shape what you expected?"
   ]
  },
  {
   "cell_type": "code",
   "execution_count": 15,
   "id": "91776075-2a95-4b41-9c60-defac797e248",
   "metadata": {},
   "outputs": [
    {
     "name": "stdout",
     "output_type": "stream",
     "text": [
      "The shape, as expected, is (3, 2)\n"
     ]
    }
   ],
   "source": [
    "# Your code here\n",
    "m_1 = np.random.randn(3, 4)\n",
    "m_2 = np.random.randn(4, 2)\n",
    "prod_m = np.dot(m_1, m_2)\n",
    "print(f\"The shape, as expected, is {prod_m.shape}\")"
   ]
  },
  {
   "cell_type": "markdown",
   "id": "5a9e1f47-4dc7-499a-ae77-cff3420610e7",
   "metadata": {},
   "source": [
    "### Accessing the array's elements\n",
    "\n",
    "Numpy arrays are suitable for the storage of large amount of data. It is therefore convenient to know some smart way to access their elements. As vectors are an ordered structure, elements can be accessed by their index. "
   ]
  },
  {
   "cell_type": "code",
   "execution_count": 16,
   "id": "b726691b-8a2a-4eb4-8a91-aee1d46d7676",
   "metadata": {},
   "outputs": [
    {
     "name": "stdout",
     "output_type": "stream",
     "text": [
      "[[ 1  2]\n",
      " [ 4 -1]\n",
      " [ 3  3]]\n",
      "\n",
      "The element in position (1, 0) is  4\n"
     ]
    }
   ],
   "source": [
    "a = np.array([[1, 2], [4, -1], [3, 3]])\n",
    "el = a[1, 0]\n",
    "print(a)\n",
    "print(\"\\nThe element in position (1, 0) is \", el)"
   ]
  },
  {
   "cell_type": "markdown",
   "id": "0867c155-d025-482e-887f-9f3c13fe84b4",
   "metadata": {},
   "source": [
    "If you need to access larger portions of **contiguous** or regularly spaced elements of a numpy array, then you can use the **slicing** operations. The simplest form of slicing just works like the access by index, but replacing the index in one or more dimensions with 2 indices, separated by \":\". For instance, the syntax x[2:4, 3:9] returns the values with index 2 to 4 (4 excluded) along the first axis, and from 3 to 9 (9 excluded) along the second axis. You can optionally define a **skip value**: the syntax x[2:9:2] will select only every second element between 2 and 9. It is often useful to leave one or more values empty. x[:4] means \"from the start up to 4\", while x[3:] means \"from 3 up to the end\". x[:, 3] would return the full column 3. Tip: indices also work backwards, meaning that the last element can also be retrieved with the index -1, the second last with -2, etc."
   ]
  },
  {
   "cell_type": "markdown",
   "id": "dbe6a952-13b2-41af-a370-9151d18df8eb",
   "metadata": {},
   "source": [
    "**Exercise 4.** Define a random array (values from the normal distribution) of shape (3, 4, 4). Slice the 2x2x2 cube at the beginning of each axis and print it."
   ]
  },
  {
   "cell_type": "code",
   "execution_count": 17,
   "id": "b2b9b88b-c298-4f0e-94ea-560710863112",
   "metadata": {},
   "outputs": [
    {
     "name": "stdout",
     "output_type": "stream",
     "text": [
      "[[[-2.21778723 -0.43742529]\n",
      "  [-0.17226566  1.55719819]]\n",
      "\n",
      " [[ 0.39457149  0.12696649]\n",
      "  [-0.60149918 -0.19766351]]]\n"
     ]
    }
   ],
   "source": [
    "# Your code here\n",
    "arr = np.random.randn(3, 4, 4)\n",
    "cube = arr[:2, :2, :2]\n",
    "print(cube)"
   ]
  },
  {
   "cell_type": "markdown",
   "id": "55a2f81f-77ec-480f-bbbc-17fa1e38c132",
   "metadata": {},
   "source": [
    "**Exercise 5.** Define a matrix of size (8x8). Undersample it into a (4x4) matrix by selecting every second element both along the rows and the columns."
   ]
  },
  {
   "cell_type": "code",
   "execution_count": 18,
   "id": "f5736080-7ef8-4ad0-badf-d4938c5fab1e",
   "metadata": {},
   "outputs": [
    {
     "name": "stdout",
     "output_type": "stream",
     "text": [
      "(4, 4)\n"
     ]
    }
   ],
   "source": [
    "# Your code here\n",
    "m = np.random.randn(8, 8)\n",
    "m_undersampled = m[::2, ::2]\n",
    "print(m_undersampled.shape)"
   ]
  },
  {
   "cell_type": "markdown",
   "id": "334d76b2-6b30-480f-bf5f-1c092ab729fc",
   "metadata": {},
   "source": [
    "**Exercise 6.** The slicing operation returns a reference to the sliced part of the array. This means that changing the value of the slice also changes the value of the original array. Define a (5x5) random matrix, slice the third row and assign the value 1 to its first 3 elements. Print the original matrix."
   ]
  },
  {
   "cell_type": "code",
   "execution_count": 19,
   "id": "e19679ac-e593-42f6-bd9d-901d20cb9646",
   "metadata": {},
   "outputs": [
    {
     "name": "stdout",
     "output_type": "stream",
     "text": [
      "[[ 1.07616003  1.47002739  1.95171784 -1.15904328 -1.84674991]\n",
      " [ 1.47167162 -0.94555021  0.66680425  0.51041671  1.54270899]\n",
      " [ 1.          1.          1.         -0.25323991 -1.05617346]\n",
      " [-1.12520319 -2.1903321   0.52749454  0.73343109 -0.54028857]\n",
      " [-0.84991687  1.3611984  -0.97679703 -2.20934415 -0.14090684]]\n"
     ]
    }
   ],
   "source": [
    "# Your code here\n",
    "m = np.random.randn(5, 5)\n",
    "row = m[2, :]\n",
    "row[:3] = 1\n",
    "print(m)"
   ]
  },
  {
   "cell_type": "markdown",
   "id": "414bd443-c4ec-405d-85a0-ddca4f275490",
   "metadata": {},
   "source": [
    "### Array manipulation"
   ]
  },
  {
   "cell_type": "markdown",
   "id": "7aff03fa-0d50-48a0-a7bc-9b952a00b8ea",
   "metadata": {},
   "source": [
    "Arrays often require to be manipulated to be inte correct format for the computation. For example, a dataset of pictures might be stored as a flat vector, but we might need them in the form of a rectangle. Numpy offers a long list of functions to handle arrays. Here we are going to focus on the functions <code>reshape</code>, <code>transpose</code> and <code>concatenate</code>\n",
    "\n",
    "<code>reshape</code> is used to rearrange the shape of a vector without changing the values of its elements. It receives the list of sizes of the resulting array in each dimension and reorders the elements accordingly. It is possible to leave one of the dimensions blank (by passing a -1), as it can be inferred by the sizes of the other dimensions and the number of elements."
   ]
  },
  {
   "cell_type": "code",
   "execution_count": 20,
   "id": "0e5cd991-679f-4a39-bea6-a6fece465e46",
   "metadata": {},
   "outputs": [
    {
     "name": "stdout",
     "output_type": "stream",
     "text": [
      "The new shape is  (10, 10)\n"
     ]
    }
   ],
   "source": [
    "x = np.random.randn(100)\n",
    "x_square = np.reshape(x, [10, 10])\n",
    "print(\"The new shape is \", x_square.shape)"
   ]
  },
  {
   "cell_type": "markdown",
   "id": "dcd8917e-76cf-4ea7-bd3e-b8009c943b52",
   "metadata": {},
   "source": [
    "**Exercise 7.** Define a random matrix of size (100x100) and reshape it into an array of size (100x10x10). Try not specifying the last dimension and verify that it still has the expected shape"
   ]
  },
  {
   "cell_type": "code",
   "execution_count": 21,
   "id": "7622110f-8d00-4948-bbd2-57b3888f312c",
   "metadata": {},
   "outputs": [
    {
     "name": "stdout",
     "output_type": "stream",
     "text": [
      "(100, 10, 10)\n"
     ]
    }
   ],
   "source": [
    "# Your code here\n",
    "m = np.random.randn(100, 100)\n",
    "m_reshaped = np.reshape(m, (100, 10, -1))\n",
    "print(m_reshaped.shape)"
   ]
  },
  {
   "cell_type": "markdown",
   "id": "fabd2ab5-acbb-48b0-ac5a-463f2e3b7e0a",
   "metadata": {},
   "source": [
    "<code>transpose</code> is simply used to swap the indices of the elements of a matrix.\n",
    "\n",
    "**Exercise 8.** Create a random (3x5) matrix m and compute its transposed m_t. Verify that both the products between m_t and m and m and m_t result in a symmetric matrix"
   ]
  },
  {
   "cell_type": "code",
   "execution_count": 22,
   "id": "05dbf575-9de0-45ee-b652-37aec5412676",
   "metadata": {},
   "outputs": [
    {
     "name": "stdout",
     "output_type": "stream",
     "text": [
      "Mt * M is symmetric:  True\n",
      "M * Mt is symmetric:  True\n"
     ]
    }
   ],
   "source": [
    "# Your code here\n",
    "m = np.random.randn(3, 5)\n",
    "m_t = np.transpose(m)\n",
    "m_t_m = np.dot(m_t, m)\n",
    "m_m_t = np.dot(m, m_t)\n",
    "\n",
    "print(\"Mt * M is symmetric: \", (m_t_m == np.transpose(m_t_m)).all())\n",
    "print(\"M * Mt is symmetric: \", (m_m_t == np.transpose(m_m_t)).all())"
   ]
  },
  {
   "cell_type": "markdown",
   "id": "15afd802-d575-4c45-a821-f7d17593b82c",
   "metadata": {},
   "source": [
    "<code>concatenate</code> is the function to merge multiple arrays into a single one. Through the keyword **axis** one can specify along which dimension to attach the array to the other.\n",
    "\n",
    "**Exercise 9.** Define two random matrices of sizes (2x5). Use the function <code>concatenate</code> to merge them into a new  matrix. First try passing axis = 0, then axis = 1. How does the shape of the result change?"
   ]
  },
  {
   "cell_type": "code",
   "execution_count": 23,
   "id": "cbafadfa-239b-4300-b2d9-64a572896133",
   "metadata": {},
   "outputs": [
    {
     "name": "stdout",
     "output_type": "stream",
     "text": [
      "Shape after concatenating along 0:  (4, 5)\n",
      "Shape after concatenating along 1:  (2, 10)\n"
     ]
    }
   ],
   "source": [
    "# Your code here\n",
    "m_1 = np.random.randn(2, 5)\n",
    "m_2 = np.random.randn(2, 5)\n",
    "\n",
    "axis_0 = np.concatenate((m_1, m_2), axis=0)\n",
    "axis_1 = np.concatenate((m_1, m_2), axis=1)\n",
    "\n",
    "print(\"Shape after concatenating along 0: \", axis_0.shape)\n",
    "print(\"Shape after concatenating along 1: \", axis_1.shape)"
   ]
  },
  {
   "cell_type": "markdown",
   "id": "6d61570d-dc84-46d6-87da-a62650f920c0",
   "metadata": {},
   "source": [
    "### Broadcasting\n",
    "\n",
    "Broadcasting is a useful tool to write compact and efficient code with Numpy. The idea is that Numpy will sometimes accept vectors and matrices of different shapes when executing operations such as a sum or an element-wise product. For example:"
   ]
  },
  {
   "cell_type": "code",
   "execution_count": 24,
   "id": "cee1fa50-213d-4696-931c-05fed6192b01",
   "metadata": {},
   "outputs": [
    {
     "name": "stdout",
     "output_type": "stream",
     "text": [
      "[[3. 5.]\n",
      " [4. 2.]\n",
      " [1. 0.]]\n"
     ]
    }
   ],
   "source": [
    "x = np.array([[2, 4], [3, 1], [0, -1]])\n",
    "y = np.ones((3, 1))\n",
    "result = x + y\n",
    "print(result)"
   ]
  },
  {
   "cell_type": "markdown",
   "id": "f2e52983-f4de-41e4-9f0e-8cfe27dedd1c",
   "metadata": {},
   "source": [
    "In the previous code we have summed a (3x2) matrix and a (3x1) vector. Numpy succeeds in the task because it interprets the operation as \"sum vector y to all the columns of x\". In fact, broadcasting follows these 2 rules:\n",
    "\n",
    "1 - If the number of dimensions between the two matrices is different, prepend dummy dimensions to the array with fewer dimensions until the numbers match.\n",
    "\n",
    "2 - In all the dimensions in which one array has size 1 and the other n > 1, the array with size 1 behaves like its values are repeated n times.\n",
    "\n",
    "When applicable, broadcasting is an extremely useful tool due to its high efficiency."
   ]
  },
  {
   "cell_type": "markdown",
   "id": "1db4c8ac-7470-4b95-bd2e-7ab903910cb9",
   "metadata": {},
   "source": [
    "**Exercise 10.** Create a (10x10) matrix in which all columns contain the numbers from 0 to 9, plus some random noise (the random noise is different for each column). Take advantage of broadcasting."
   ]
  },
  {
   "cell_type": "code",
   "execution_count": 25,
   "id": "ca0a1fbf-1fa5-4d83-a458-9890f190a105",
   "metadata": {},
   "outputs": [
    {
     "name": "stdout",
     "output_type": "stream",
     "text": [
      "[[-0.65221471  0.90942941  1.5889421  -0.78268856  1.37797468  0.16842575\n",
      "  -0.40302509  1.00385227 -0.82384278  1.3667376 ]\n",
      " [ 0.34778529  1.90942941  2.5889421   0.21731144  2.37797468  1.16842575\n",
      "   0.59697491  2.00385227  0.17615722  2.3667376 ]\n",
      " [ 1.34778529  2.90942941  3.5889421   1.21731144  3.37797468  2.16842575\n",
      "   1.59697491  3.00385227  1.17615722  3.3667376 ]\n",
      " [ 2.34778529  3.90942941  4.5889421   2.21731144  4.37797468  3.16842575\n",
      "   2.59697491  4.00385227  2.17615722  4.3667376 ]\n",
      " [ 3.34778529  4.90942941  5.5889421   3.21731144  5.37797468  4.16842575\n",
      "   3.59697491  5.00385227  3.17615722  5.3667376 ]\n",
      " [ 4.34778529  5.90942941  6.5889421   4.21731144  6.37797468  5.16842575\n",
      "   4.59697491  6.00385227  4.17615722  6.3667376 ]\n",
      " [ 5.34778529  6.90942941  7.5889421   5.21731144  7.37797468  6.16842575\n",
      "   5.59697491  7.00385227  5.17615722  7.3667376 ]\n",
      " [ 6.34778529  7.90942941  8.5889421   6.21731144  8.37797468  7.16842575\n",
      "   6.59697491  8.00385227  6.17615722  8.3667376 ]\n",
      " [ 7.34778529  8.90942941  9.5889421   7.21731144  9.37797468  8.16842575\n",
      "   7.59697491  9.00385227  7.17615722  9.3667376 ]\n",
      " [ 8.34778529  9.90942941 10.5889421   8.21731144 10.37797468  9.16842575\n",
      "   8.59697491 10.00385227  8.17615722 10.3667376 ]]\n"
     ]
    }
   ],
   "source": [
    "# Your code here\n",
    "col = np.reshape(np.arange(10), (-1, 1))\n",
    "noise = np.random.randn(1, 10)\n",
    "m = col + noise\n",
    "print(m)"
   ]
  }
 ],
 "metadata": {
  "kernelspec": {
   "display_name": "Python 3 (ipykernel)",
   "language": "python",
   "name": "python3"
  },
  "language_info": {
   "codemirror_mode": {
    "name": "ipython",
    "version": 3
   },
   "file_extension": ".py",
   "mimetype": "text/x-python",
   "name": "python",
   "nbconvert_exporter": "python",
   "pygments_lexer": "ipython3",
   "version": "3.8.13"
  }
 },
 "nbformat": 4,
 "nbformat_minor": 5
}
