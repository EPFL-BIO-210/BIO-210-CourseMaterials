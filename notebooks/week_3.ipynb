{
 "cells": [
  {
   "cell_type": "markdown",
   "metadata": {},
   "source": [
    "BIO-210: Applied software engineering for life sciences\n",
    "# Python Introduction III - Numpy 2 and branching operations"
   ]
  },
  {
   "cell_type": "markdown",
   "metadata": {},
   "source": [
    "## A deeper dive into Numpy\n",
    "**Numpy** is a widely used Python library for scientific computing. During the last lesson you already learnt quite a few features of **Numpy**. Today, let's explore more features!"
   ]
  },
  {
   "cell_type": "code",
   "execution_count": 1,
   "metadata": {},
   "outputs": [],
   "source": [
    "import numpy as np"
   ]
  },
  {
   "cell_type": "markdown",
   "metadata": {},
   "source": [
    "### Slicing operations (refresh)"
   ]
  },
  {
   "cell_type": "markdown",
   "metadata": {},
   "source": [
    "Let's review together how to index a multi-dimensional array using slicing"
   ]
  },
  {
   "cell_type": "code",
   "execution_count": null,
   "metadata": {},
   "outputs": [],
   "source": [
    "a = np.arange(1,101).reshape(10,10)\n",
    "\n",
    "print('By default, indexing with colon will return all rows and columns')\n",
    "b = a[:,:]  #[all rows, all columns]\n",
    "print(b)\n",
    "\n",
    "print('We can define the start at the end of indexed rows')\n",
    "b = a[1:3,:]  #[all rows, all columns]\n",
    "print(b)\n",
    "\n",
    "print('or the start at the end of indexed columns')\n",
    "b = a[:,1:3]  #[all rows, all columns]\n",
    "print(b)\n",
    "\n",
    "print('We can also specify the start and the end for both rows and columns')\n",
    "b = a[4:7,1:3]  #[all rows, all columns]\n",
    "print(b)"
   ]
  },
  {
   "cell_type": "markdown",
   "metadata": {},
   "source": [
    "Sometimes, it can be useful to skip indexes. This can be achieved by adding another colon (`:`) and the value that specify how many values you want to skip. Therefore, we can summarize all slicing operations with the following notation `[start_idx : end_idx : skip_idx]`."
   ]
  },
  {
   "cell_type": "code",
   "execution_count": null,
   "metadata": {},
   "outputs": [],
   "source": [
    "print('Print every fourth rows')\n",
    "b = a[::4,:]\n",
    "print(b)"
   ]
  },
  {
   "cell_type": "markdown",
   "metadata": {},
   "source": [
    "While here we are working with relatively small arrays, in real life you might work with large datasets having several axes. When that's the case, the ellipsis syntax (`...`) is useful to skip multiple axes. For example, imagine we have a 5D array and we want to get all the axes except the last one, where we want to get the first two elements. We can use the following syntax:"
   ]
  },
  {
   "cell_type": "code",
   "execution_count": null,
   "metadata": {},
   "outputs": [],
   "source": [
    "mat = np.random.randn(4,4,4,4,4)\n",
    "print(mat)\n",
    "print('mat.shape:', mat.shape)\n",
    "mat_sub = mat[..., :2] # equivalent to mat[:,:,:,:,:2]\n",
    "print('mat_sub.shape:', mat_sub.shape)"
   ]
  },
  {
   "cell_type": "markdown",
   "metadata": {},
   "source": [
    "**Exercise 0.** Index matrix <code>a</code> and print all even numbers between 40 (excluded) and 70."
   ]
  },
  {
   "cell_type": "code",
   "execution_count": 5,
   "metadata": {},
   "outputs": [],
   "source": [
    "# Your code here"
   ]
  },
  {
   "cell_type": "markdown",
   "metadata": {},
   "source": [
    "### Basic statistical functions\n",
    "NumPy contains various statistical functions that are used for data analysis. These functions are useful, for example, to find the maximum or the minimum element of a vector. It is also used to compute common statistical operations like standard deviation, variance, etc."
   ]
  },
  {
   "cell_type": "markdown",
   "metadata": {},
   "source": [
    "The functions <code>mean</code> and <code>std</code> are used to caculate the mean and standard deviation of the input data (e.g., of an array). Besides caculating the result for the whole data, they can also be used to calculate it along a specific axis."
   ]
  },
  {
   "cell_type": "code",
   "execution_count": null,
   "metadata": {},
   "outputs": [],
   "source": [
    "a = np.array([[1, 2], [3, 4]])\n",
    "\n",
    "print(\"The full matrix:\\n\", a)\n",
    "print(\"The mean of the whole matrix is:\", np.mean(a))\n",
    "print(\"The standard deviation of the whole matrix is:\", np.std(a))\n",
    "print(\"The mean of each column is:\", np.mean(a, axis=0))\n",
    "print(\"The mean of each row is:\", np.mean(a, axis=1))\n",
    "print(\"The standard deviation of each column is:\", np.std(a, axis=0))"
   ]
  },
  {
   "cell_type": "markdown",
   "metadata": {},
   "source": [
    "Now, let's generate a random array drawn from a gaussian distribution $\\mathcal{N}\\left(3, 6.25\\right)$. The **Numpy** function <code>random.randn</code> samples values from a standard gaussian distribution $\\mathcal{N}\\left(0, 1\\right)$. Therefore, to get a gaussian distribution distribution $\\mathcal{N}\\left(3, 6.25\\right)$, we need to multiply the vector by the standard deviation (i.e., $\\sqrt{6.25}$) and by adding the mean (i.e., $3$)."
   ]
  },
  {
   "cell_type": "code",
   "execution_count": 7,
   "metadata": {},
   "outputs": [],
   "source": [
    "a = 3 + 2.5 * np.random.randn(2, 4)"
   ]
  },
  {
   "cell_type": "markdown",
   "metadata": {},
   "source": [
    "**Exercise 1.** Calculate the mean and standard deviation first of the whole matrix <code>a</code> and then along the first axis of matrix <code>a</code>."
   ]
  },
  {
   "cell_type": "code",
   "execution_count": 8,
   "metadata": {},
   "outputs": [],
   "source": [
    "# Your code here"
   ]
  },
  {
   "cell_type": "markdown",
   "metadata": {},
   "source": [
    "Is it close to what you expect? How would you create another matrix <code>a</code>, in which the mean and the standard deviation are closer to the expected ones? "
   ]
  },
  {
   "cell_type": "code",
   "execution_count": 9,
   "metadata": {},
   "outputs": [],
   "source": [
    "# Your code here"
   ]
  },
  {
   "cell_type": "markdown",
   "metadata": {},
   "source": [
    "**Exercise 2.** Besides <code>mean</code> and <code>std</code>, **Numpy** also offers the functions <code>min</code>, <code>max</code>, <code>median</code>, <code>argmin</code>, <code>argmax</code> to caculate the minimum, maximum and median values, index of the minimum and index of the maximum of the array. Apply these functions to the matrix <code>a</code> and along its axis 0 (think of it as coordinates of your array, with axis 0 along rows and axis 1 along columns). Take a better look at the example above to help you understand the importance of this parameter! If you still feel confused check out [this article](https://www.sharpsightlabs.com/blog/numpy-axes-explained/#numpy-axes-quick-explanation)."
   ]
  },
  {
   "cell_type": "code",
   "execution_count": 10,
   "metadata": {},
   "outputs": [],
   "source": [
    "# Your code here"
   ]
  },
  {
   "cell_type": "markdown",
   "metadata": {},
   "source": [
    "**Numpy** also supports non-standard numbers, such as **np.inf**, which represents infinity, and **np.nan**, which represents \"not-a-number\". These can be the results of operations such as division by 0:"
   ]
  },
  {
   "cell_type": "code",
   "execution_count": null,
   "metadata": {},
   "outputs": [],
   "source": [
    "a = np.array([0, 1, -4]) / 0\n",
    "print(\"Dividing by 0 can generate np.nan or np.inf (also negative) as a result:\", a)"
   ]
  },
  {
   "cell_type": "markdown",
   "metadata": {},
   "source": [
    "Standard operations, when applied to data containing np.nan, will also return **np.nan**:"
   ]
  },
  {
   "cell_type": "code",
   "execution_count": null,
   "metadata": {},
   "outputs": [],
   "source": [
    "a = [0, np.nan, 1]\n",
    "print(\"The mean of a vector with a NaN is: \", np.mean(a))"
   ]
  },
  {
   "cell_type": "markdown",
   "metadata": {},
   "source": [
    "However, **Numpy** offers functions that can ignore NaNs, such as <code>nanmax</code>, <code>nanmin</code> and <code>nanmean</code> . Let's create an array including NaN values and test these functions."
   ]
  },
  {
   "cell_type": "markdown",
   "metadata": {},
   "source": [
    "**Exercise 3.** Apply the following functions of numpy to the array a: <code>min</code>, <code>max</code> and <code>nanmin</code>, <code>nanmax</code>."
   ]
  },
  {
   "cell_type": "code",
   "execution_count": 13,
   "metadata": {},
   "outputs": [],
   "source": [
    "# Your code here"
   ]
  },
  {
   "cell_type": "markdown",
   "metadata": {},
   "source": [
    "**Exercise 4.** We want to write some code which, given a point, finds the closest one in a set of other points. Such a function is important, for example, in information theory, as it is the basic operation of the vector quantization (VQ) algorithm. In the simple, two-dimensional case shown below, the values refer to the weight and height of an athlete. The set of weights and heights represents different classes of athletes. We want to assign the athlete to the class it is closest to. Finding the closest point requires calculating the Euclidean distance between the athlete's parameters and each of the classes of athletes.\n",
    "Now, let's define an athlete with \n",
    "$$\\left[\\text{weight, height}\\right] = \\left[111.0, 188.0\\right]$$\n",
    "and an array of 4 classes\n",
    "$$[[102.0, 203.0],$$\n",
    "$$[132.0, 193.0],$$\n",
    "$$[45.0, 155.0],$$\n",
    "$$[57.0, 173.0]]$$\n",
    "In the next cell, write some code which returns the index of the class of athletes that the athlete should be assigned to."
   ]
  },
  {
   "cell_type": "code",
   "execution_count": null,
   "metadata": {},
   "outputs": [],
   "source": [
    "observation = np.array([111.0, 188.0])\n",
    "codes = np.array([[102.0, 203.0],\n",
    "               [132.0, 193.0],\n",
    "               [45.0, 155.0],\n",
    "               [57.0, 173.0]])\n",
    "diff = codes - observation    # the broadcast happens here\n",
    "print(diff.shape)\n",
    "dist = np.sqrt(np.sum(diff**2, axis=-1))\n",
    "print(np.argmin(dist))"
   ]
  },
  {
   "cell_type": "markdown",
   "metadata": {},
   "source": [
    "### Linear algebra examples\n",
    "Linear algebra is at the core of Data Science. That's why **NumPy** offers array-like data structures & dedicated operations and methods. Let's first have a look together at the <code>dot</code> function as an example, which computes the matrix multiplication between two vectors or matrices."
   ]
  },
  {
   "cell_type": "code",
   "execution_count": null,
   "metadata": {},
   "outputs": [],
   "source": [
    "a = np.array([[1,2,3],[2,0,3],[7,-5,1]])\n",
    "b = np.array([[3,-1,5],[-2,-6,4], [0,4,4]])\n",
    "print('a @ b: \\n', np.dot(a,b))\n",
    "print('a @ b: \\n', a.dot(b))"
   ]
  },
  {
   "cell_type": "markdown",
   "metadata": {},
   "source": [
    "**Exercise 5.** Define two random matrices, `a` and `b`, of sizes (4x2). Transpose `b` and save in `c` the matrix product between `a` and `b` transposed."
   ]
  },
  {
   "cell_type": "code",
   "execution_count": 16,
   "metadata": {},
   "outputs": [],
   "source": [
    "# Your code here"
   ]
  },
  {
   "cell_type": "markdown",
   "metadata": {},
   "source": [
    "**Exercise 6.** Can the `c` matrix be inverted? Check it out by computing its determinant and, if it exists, get the inverse matrix."
   ]
  },
  {
   "cell_type": "code",
   "execution_count": 17,
   "metadata": {},
   "outputs": [],
   "source": [
    "# Your code here"
   ]
  },
  {
   "cell_type": "markdown",
   "metadata": {},
   "source": [
    "**Exercise 7.** Using the inverse matrix and the matrix-multiplication operator, you can now solve a matrix-vector equation. Let's now find the vector $x$ that solves the equation\n",
    "$$Ax = b$$\n",
    "given $A=\\left(\\begin{matrix} 2 & 1 & -2\\\\ 3 & 0 & 1\\\\ 1 & 1 & -1\\end{matrix}\\right)$ and $b=\\left(\\begin{matrix}-3 \\\\ 5 \\\\ -2 \\end{matrix}\\right)$."
   ]
  },
  {
   "cell_type": "code",
   "execution_count": 18,
   "metadata": {},
   "outputs": [],
   "source": [
    "# Your code here"
   ]
  },
  {
   "cell_type": "markdown",
   "metadata": {},
   "source": [
    "**Exercise 8.** Computing the inverse could be very time-consuming. Therefore, it is always better to take advantage of the highly optimized **NumPy** functions to solve linear equations. Try to solve the same exercise as before but using **NumPy**'s function <code>linalg.solve</code> to compute $x$."
   ]
  },
  {
   "cell_type": "code",
   "execution_count": 19,
   "metadata": {},
   "outputs": [],
   "source": [
    "# Your code here"
   ]
  },
  {
   "cell_type": "markdown",
   "metadata": {},
   "source": [
    "## Branching operations"
   ]
  },
  {
   "cell_type": "markdown",
   "metadata": {},
   "source": [
    "### *if*, *else* and *elif*\n",
    "In Python, similarly to all of the C-like languages, branching operations are implemented using the **if** keyword. If the expression is true, the statement following it will be executed. Otherwise, it is possible to specify the statement to execute in case of the expression is false, by using the *else* keyword. Both **if** and **else** need a colon (`:`) at the line, as in the following example:"
   ]
  },
  {
   "cell_type": "code",
   "execution_count": null,
   "metadata": {},
   "outputs": [],
   "source": [
    "r = np.random.randn()\n",
    "if r > 0:\n",
    "    print(\"The random number is positive\")\n",
    "else:\n",
    "    print(\"The random number is negative\")"
   ]
  },
  {
   "cell_type": "markdown",
   "metadata": {},
   "source": [
    "In case you want to create multiple branches by applying more than one condition, you can use the keyword **elif** as in the following example:"
   ]
  },
  {
   "cell_type": "code",
   "execution_count": null,
   "metadata": {},
   "outputs": [],
   "source": [
    "animal = \"cat\"\n",
    "\n",
    "if animal == \"cat\":\n",
    "    print(\"meow\")\n",
    "elif animal == \"dog\":\n",
    "    print(\"woof\")\n",
    "elif animal == \"cow\":\n",
    "    print(\"moo\")\n",
    "else:\n",
    "    print(f\"I don't know  the {animal}'s call, sorry :(\")"
   ]
  },
  {
   "cell_type": "markdown",
   "metadata": {},
   "source": [
    "**Exercise 9.** Let's try to implement a calculator using **if**, **else** and **elif**. The head of the calculator is already written as the following. You can input `a`, `b` and `option` when running the code. There should be 4 allowed operations:\n",
    "- addition (`1`)\n",
    "- subtraction (`2`)\n",
    "- multiplication (`3`)\n",
    "- division (`4`)\n",
    "\n",
    "If the option is not one of the 4, the calculator should print \"Invalid option\". Implement the missing code using the `if`, `elif` and `else` statements along with the appropriate operations."
   ]
  },
  {
   "cell_type": "code",
   "execution_count": null,
   "metadata": {},
   "outputs": [],
   "source": [
    "print(\"Welcome to CALCULATOR!\")\n",
    "\n",
    "a = float(input(\"Enter the first number: \"))\n",
    "b = float(input(\"Enter the second number: \"))\n",
    "\n",
    "print(\"Choose one of the following operations:\")\n",
    "print(\"1 - addition\")\n",
    "print(\"2 - subtraction\")\n",
    "print(\"3 - multiplication\")\n",
    "print(\"4 - division\")\n",
    "\n",
    "option = int(input(\"\"))\n",
    "\n",
    "# Your code here\n",
    "    \n",
    "print(\"The result is \", result)"
   ]
  },
  {
   "cell_type": "markdown",
   "metadata": {},
   "source": [
    "### *break* and *continue*\n",
    "\n",
    "The **break** statement in Python terminates the current loop and resumes execution at the next statement, just like the traditional *break* found in C. On the other hand, the **continue** statement skips all the remaining code in the current iteration of the loop and moves the control back to the top of the loop."
   ]
  },
  {
   "cell_type": "markdown",
   "metadata": {},
   "source": [
    "**Exercise 10.** Try to use a `for` loop and the `continue` statement to remove all the `\"h\"`s in the string `\"hello, haha, python\"`. The result should be stored in a new string."
   ]
  },
  {
   "cell_type": "code",
   "execution_count": null,
   "metadata": {},
   "outputs": [],
   "source": [
    "# Your code here"
   ]
  },
  {
   "cell_type": "markdown",
   "metadata": {},
   "source": [
    "**Exercise 11.** Try to use a `for` loop and the `break` statement to only keep the letters before `\"p\"` in the string `\"hello, haha, python\"`. The result should be stored in a new string."
   ]
  },
  {
   "cell_type": "code",
   "execution_count": null,
   "metadata": {},
   "outputs": [],
   "source": [
    "# Your code here"
   ]
  }
 ],
 "metadata": {
  "kernelspec": {
   "display_name": "py39",
   "language": "python",
   "name": "python3"
  },
  "language_info": {
   "codemirror_mode": {
    "name": "ipython",
    "version": 3
   },
   "file_extension": ".py",
   "mimetype": "text/x-python",
   "name": "python",
   "nbconvert_exporter": "python",
   "pygments_lexer": "ipython3",
   "version": "3.9.13"
  }
 },
 "nbformat": 4,
 "nbformat_minor": 2
}
