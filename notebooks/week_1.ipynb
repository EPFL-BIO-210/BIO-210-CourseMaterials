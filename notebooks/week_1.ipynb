{
 "cells": [
  {
   "cell_type": "markdown",
   "id": "3f18200a-34d1-4637-a8bd-b96b0e0de43d",
   "metadata": {},
   "source": [
    "BIO-210: Applied software engineering for life sciences\n",
    "# Python Introduction I - Programming Basics and Data Types"
   ]
  },
  {
   "cell_type": "markdown",
   "id": "a197e9ca-4d53-4ecf-b055-2f1ac30f8ee5",
   "metadata": {},
   "source": [
    "Welcome to the course \"**Applied software engineering for life sciences**\"! During this semester you will learn how to use the programming language **Python** to develop a medium-sized project. The first 4 exercise sessions, including this one, will focus on teaching you the fundamentals of Python, git and VS code. Then the project phase will start!\n",
    "\n",
    "This page (that you see right now) is called a **Notebook**. It is a convenient development tool, as it allows you to run your code in blocks (called **cells**) and immediately visualize the output. Furthermore, the variables defined in a cell are stored in memory and are readily available in all other cells. In the cell below, we are performing the operation 3 + 4. To execute it and visualize the result, just select the cell with your mouse (or moving down with an arrow) and press the **play** button in the command bar at the top of this page. Alternatively, you can use the shortcut [ctrl] + [enter] to run the cell ([shift] + [enter] to run the cell and move to the next one).\n",
    "\n",
    "Specifically, this **Notebook** is a [Jupyter Notebook](https://jupyter.org) a web application for creating and sharing computational documents. "
   ]
  },
  {
   "cell_type": "code",
   "execution_count": null,
   "id": "6c5901dd-c891-4c4a-a387-8ecad3df4434",
   "metadata": {},
   "outputs": [],
   "source": [
    "3 + 4"
   ]
  },
  {
   "cell_type": "markdown",
   "id": "f026b5e8-376d-48a7-97fd-52f0c995f232",
   "metadata": {},
   "source": [
    "If you ran the cell correctly, you should see the output \"7\" appearing below your cell.\n",
    "\n",
    "Now you are ready to create your first cell. A cell can be of 3 types: **Code**, **Markdown** or **Raw**. To create a new cell, just press the \"+\" button in the command bar. Alternatively, select a cell (the cell, not its content!) and press the key \"b\" or \"a\" to create a cell below or above. By default, the cell is created in Code mode. This means that you can right away write your code and run it. You can switch mode by selecting it in the command bar, or with the shortcuts \"m\" for Markdown, \"r\" for Raw and \"y\" for code.\n",
    "\n",
    "Now create a new cell below this one, write some arithmetic expressions and execute them. Do you get the expected results?"
   ]
  },
  {
   "cell_type": "markdown",
   "id": "65414cb0-1ec8-43f8-8b5d-bb5efc36730a",
   "metadata": {},
   "source": [
    "## Data types - Fundamentals\n",
    "Python is a strongly, dynamically typed language. Each value has its own type: for example, 1 is an integer, while 1.0 is a float. However, variables can change their type throughout their lifetime (differently, for example, from C or C++). Here is a simple example:"
   ]
  },
  {
   "cell_type": "code",
   "execution_count": null,
   "id": "28b24364-3f15-4ffd-bfd1-0596de0aea74",
   "metadata": {},
   "outputs": [],
   "source": [
    "x = 1\n",
    "print(\"x = 1, type of x: \", type(x))\n",
    "\n",
    "x = 1.\n",
    "print(\"x = 1., type of x: \", type(x))"
   ]
  },
  {
   "cell_type": "markdown",
   "id": "e9c6f4b8-8db4-4af3-beea-bc01a5b5b912",
   "metadata": {},
   "source": [
    "Some python operations (\"+\", \"-\", \"\\*\", \"%\", \"\\*\\*\", \"//\") will preserve the data type of their inputs, while others (e.g, \"/\") might change the type. Indeed, (\"/\") will always return a float. See the following examples:"
   ]
  },
  {
   "cell_type": "code",
   "execution_count": null,
   "id": "f5fa339d-79df-4c33-828f-bbb904e60c73",
   "metadata": {},
   "outputs": [],
   "source": [
    "x = 3 + 4\n",
    "print(\"x = 3 + 4, result: \", x, \" type of x: \", type(x))\n",
    "\n",
    "x = 3. + 4.\n",
    "print(\"x = 3. + 4., result: \", x, \" type of x: \", type(x))\n",
    "\n",
    "x = 6 / 4\n",
    "print(\"x = 6 / 4, result: \", x, \" type of x: \", type(x))\n",
    "\n",
    "x = 7. // 2\n",
    "print(\"x = 7. // 2, result: \", x, \" type of x: \", type(x))\n",
    "\n",
    "x = 4 ** 3\n",
    "print(\"x = 4 ** 3, result: \", x, \" type of x: \", type(x))\n",
    "\n",
    "x = 22.5 % 3\n",
    "print(\"x = 22.5 % 3, result: \", x, \" type of x: \", type(x))"
   ]
  },
  {
   "cell_type": "markdown",
   "id": "7f321ec5-b1f6-4b12-a9ae-f39387297391",
   "metadata": {},
   "source": [
    "Besides integers and floats, Python supports two other fundamental data types: **booleans** and **strings**. Booleans can just store the values \"True\" or \"False\", while strings are a more complex type, which can store characters, words and sentences (comprising lots of different characters). Here are some examples:"
   ]
  },
  {
   "cell_type": "code",
   "execution_count": null,
   "id": "e3e84e73-21cc-4710-85bf-10a50873dfdf",
   "metadata": {},
   "outputs": [],
   "source": [
    "x = False\n",
    "print(\"x = False, type of x: \", type(x))\n",
    "\n",
    "x = 'a'\n",
    "print(\"x = 'a', type of x: \", type(x))\n",
    "\n",
    "x = 'abdc efgh'\n",
    "print(\"x = 'abcd efgh', type of x: \", type(x))"
   ]
  },
  {
   "cell_type": "markdown",
   "id": "872b9274-0bbd-4762-a44f-713cfe71f40c",
   "metadata": {},
   "source": [
    "You can conveniently change the type of a variable by applying one of the following builtin functions: <code>int()</code>, <code>float()</code>, <code>bool()</code>, <code>str()</code>. Pay attention: not all strings can be converted to integers, booleans or floats! And all integers and floats apart from 0 will be converted into the boolean \"True\"."
   ]
  },
  {
   "cell_type": "code",
   "execution_count": null,
   "id": "8569a2f9-f512-4014-b861-f98eec4962d2",
   "metadata": {},
   "outputs": [],
   "source": [
    "x = int(7.5)\n",
    "print(\"x = int(7.5), result: \", x, \" type of x: \", type(x))\n",
    "\n",
    "x = float(3)\n",
    "print(\"x = float(3), result: \", x, \" type of x: \", type(x))\n",
    "\n",
    "x = str(3.18)\n",
    "print(\"x = str(3.18), result: \", x, \" type of x: \", type(x))\n",
    "\n",
    "x = int(False)\n",
    "print(\"x = int(False), result: \", x, \" type of x: \", type(x))\n",
    "\n",
    "x = bool(234)\n",
    "print(\"x = bool(234), result: \", x, \" type of x: \", type(x))\n",
    "\n",
    "x = int(\"ab\")"
   ]
  },
  {
   "cell_type": "markdown",
   "id": "e4b66e67-9bc0-4a4b-843a-b434c09f0a1e",
   "metadata": {},
   "source": [
    "The last expression int(\"ab\") triggered what is called an **exception**. This means that the function <code>int()</code> received an \"exceptional\" input, which it cannot interpret as an integer. In such cases the default exception is \"ValueError\". In the cell below, try to convert a string to an integer without causing any exception!"
   ]
  },
  {
   "cell_type": "code",
   "execution_count": null,
   "id": "8fe69000-e5e6-422d-aa0f-983b0d34e636",
   "metadata": {},
   "outputs": [],
   "source": [
    "### Insert your code here"
   ]
  },
  {
   "cell_type": "markdown",
   "id": "a183f714-6afb-4c88-8199-57a9bae76154",
   "metadata": {},
   "source": [
    "The string data type is very powerful. It offers many methods out of the box, which make some operations very easy. For example, you can turn letters into capital letters by calling capitalize(). The section \"String Methods\" of the python documentation (https://docs.python.org/3/library/stdtypes.html) gives a more general overview of all the available operations.\n",
    "\n",
    "**Exercise 1**: in the cell below, use the appropriate string function to verify that the string \"th\" is included in the word \"Python\", but that the string \"tuna\" is not."
   ]
  },
  {
   "cell_type": "code",
   "execution_count": null,
   "id": "31d0165a-6c25-4f99-8b2f-80d03ca9299c",
   "metadata": {},
   "outputs": [],
   "source": [
    "### Insert your code here"
   ]
  },
  {
   "cell_type": "markdown",
   "id": "9b13e032-5fe9-4f70-8e47-0f63d84375f3",
   "metadata": {},
   "source": [
    "**Exercise 2**: replace all the characters \"a\" in the string \"abracadabra\" with \"u\""
   ]
  },
  {
   "cell_type": "code",
   "execution_count": null,
   "id": "ad284faa-3169-40ef-a019-c61ab9050211",
   "metadata": {},
   "outputs": [],
   "source": [
    "### Insert your code here"
   ]
  },
  {
   "cell_type": "markdown",
   "id": "b7b6ca0b-632c-4d59-a809-a2fcbb900d72",
   "metadata": {},
   "source": [
    "**Exercise 3**: use the function \"format\" to include the result of the computation 3 + 4 in the string \"If you sum 3 and 4 you obtain {}\""
   ]
  },
  {
   "cell_type": "code",
   "execution_count": null,
   "id": "2b1facf4-18f6-47cc-ab14-8f3bde71a2ad",
   "metadata": {},
   "outputs": [],
   "source": [
    "### Insert your code here"
   ]
  },
  {
   "cell_type": "markdown",
   "id": "473d53c3-913e-4a39-934b-450618ff8602",
   "metadata": {},
   "source": [
    "## Loops and ifs\n",
    "As most programming languages, Python supports **for** and **while** loops. For loops iterate through all the elements of a given object, until the end is reached or a **break** statement is called inside the loop body. While loops, instead, iterate until a certain condition is met. Here are 2 minimal examples:"
   ]
  },
  {
   "cell_type": "code",
   "execution_count": null,
   "id": "45da1a19-b6e1-480b-aabe-2899b95e2535",
   "metadata": {},
   "outputs": [],
   "source": [
    "i = 0\n",
    "while i < 10:\n",
    "    print(i ** 2)\n",
    "    i += 1"
   ]
  },
  {
   "cell_type": "code",
   "execution_count": null,
   "id": "55562bf9-8220-4f5f-ae3b-d5593a339fba",
   "metadata": {},
   "outputs": [],
   "source": [
    "for i in range(10):\n",
    "    print(i ** 2)"
   ]
  },
  {
   "cell_type": "markdown",
   "id": "be929892-7b5c-4ecb-bda8-b533692e662b",
   "metadata": {},
   "source": [
    "While the two code snippets produce the same output, in the first one we are manually defining the iteration count variables. In the second example, instead, we are taking advantage of the builtin function <code>range</code> which creates what is called a **generator**. Generators are objects which can be looped trhough with a for loop (or by calling another builtin function, <code>next</code>) and return one element after another. The loop asks the generator at each iteration to return the next element, and the generator executes. We will see other ways to iterate in the context of containers."
   ]
  },
  {
   "cell_type": "markdown",
   "id": "c2451bef-d7bd-413a-93d4-ab6c2188591f",
   "metadata": {},
   "source": [
    "Python also obviously offers the possibility of assessing whether a certain condition is verified with an **if - else** statement. If multiple exclusive conditions are to different behavior, then one should use the **elif** keyword. Python supports the common binary operators <, >, ==, !=, <=, >=, or, and not. Here is a minimal example:"
   ]
  },
  {
   "cell_type": "code",
   "execution_count": null,
   "id": "d358b50c-49ca-4bea-b6f6-daf0993200d3",
   "metadata": {},
   "outputs": [],
   "source": [
    "state = \"Italy\"\n",
    "\n",
    "if state == \"Italy\":\n",
    "    print(\"Rome\")\n",
    "elif state == \"France\":\n",
    "    print(\"Paris\")\n",
    "elif state == \"Germany\":\n",
    "    print(\"Berlin\")\n",
    "elif state == \"Switzerland\":\n",
    "    print(\"de jure: none, de facto: Bern\")\n",
    "else:\n",
    "    print(\"I don't know the capital of the state\", state)"
   ]
  },
  {
   "cell_type": "markdown",
   "id": "b616264e-06e2-46e7-8014-a5f6915f7110",
   "metadata": {},
   "source": [
    "**Exercise 4**: write some code which, given an integer, prints whether it is even or odd"
   ]
  },
  {
   "cell_type": "code",
   "execution_count": null,
   "id": "68100195-54a1-4c26-bc8d-c34294a4ddb2",
   "metadata": {},
   "outputs": [],
   "source": [
    "### Insert your code here"
   ]
  },
  {
   "cell_type": "markdown",
   "id": "96e498b1-f51f-48d8-b3f7-2357c80499df",
   "metadata": {},
   "source": [
    "**Exercise 5**: write some code which, given two integers, prints whether the second one is a divisor of the first one"
   ]
  },
  {
   "cell_type": "code",
   "execution_count": null,
   "id": "98a01b91-051a-4581-bea2-8e9144cd20a7",
   "metadata": {},
   "outputs": [],
   "source": [
    "### Insert your code here"
   ]
  },
  {
   "cell_type": "markdown",
   "id": "41f187ac-dcfb-4d18-b03c-ab8c26c62fa1",
   "metadata": {},
   "source": [
    "**Exercise 6**: write some code which, given two strings, prints the larger one if one of them is contained it the other, otherwise it concatenates them and prints the resulting string"
   ]
  },
  {
   "cell_type": "code",
   "execution_count": null,
   "id": "cd2fd134-f65d-4aef-b7f0-942ddd49e85c",
   "metadata": {},
   "outputs": [],
   "source": [
    "### Insert your code here"
   ]
  },
  {
   "cell_type": "markdown",
   "id": "54eff858-d6e4-40b3-bafb-b8b4de38a2c7",
   "metadata": {},
   "source": [
    "## Data types - Containers I\n",
    "The container datatypes are extremely useful in Python. Today, you will learn about lists and dictionaries, while next week you will get to know sets and tuples.\n",
    "\n",
    "### Lists\n",
    "\n",
    "Lists are ordered collections of values. The elements of a list can be of any type. You can retrieve an element of a list through its index (starting from 0!). There are many ways to create lists. You can generate a list directly defining its elements or by passing an iterable object (an object you can go thourgh with a for loop) to the function <code>list()</code>."
   ]
  },
  {
   "cell_type": "code",
   "execution_count": null,
   "id": "993bb677-2a7b-440e-ad07-ee886dd48614",
   "metadata": {},
   "outputs": [],
   "source": [
    "x = [1, 3, 5, 6]\n",
    "print(\"x = [1, 3, 5, 6] , type of x: \", type(x))\n",
    "\n",
    "x_2 = x[2]\n",
    "print(\"The element of the list in position 2 is\", x_2) # note this is the third element!\n",
    "\n",
    "x = list(range(10))\n",
    "print(\"List including the 10 digits: \", x)"
   ]
  },
  {
   "cell_type": "markdown",
   "id": "e2cf25dd-468d-4c79-a866-c911cd2e098f",
   "metadata": {},
   "source": [
    "Lists support many useful operations, such as <code>append()</code> and <code>extend()</code>:"
   ]
  },
  {
   "cell_type": "code",
   "execution_count": null,
   "id": "25a3af28-26e8-4de3-b55c-5c991eb477d7",
   "metadata": {},
   "outputs": [],
   "source": [
    "x = [1, 4, 6]\n",
    "print(\"Base list: \", x)\n",
    "\n",
    "x.append(8)\n",
    "print(\"After appending 8: \", x)\n",
    "\n",
    "x.extend([3, 5])\n",
    "print(\"And after extending it by [3, 5]: \", x)"
   ]
  },
  {
   "cell_type": "markdown",
   "id": "ed1f4711-81f8-4927-a78c-05105e665a30",
   "metadata": {},
   "source": [
    "Lists can be conveniently looped through with a for statement. Besides the standard syntax, they also support what is called the **list comprehension** syntax, which you can use, for example, to generate a new list starting from an existing one, or from a generator."
   ]
  },
  {
   "cell_type": "code",
   "execution_count": null,
   "id": "2dadef2b-7f5c-47f0-9662-7a0ffe168928",
   "metadata": {},
   "outputs": [],
   "source": [
    "x = [1, 3, 5, 6]\n",
    "\n",
    "x_squared = []\n",
    "for el in x:\n",
    "    x_squared.append(el**2)\n",
    "print(x_squared)"
   ]
  },
  {
   "cell_type": "code",
   "execution_count": null,
   "id": "cc42e0a4-ec40-465d-85ce-11f45a083d21",
   "metadata": {},
   "outputs": [],
   "source": [
    "x = [1, 3, 5, 6]\n",
    "x_squared = [el ** 2 for el in x]\n",
    "print(x_squared)"
   ]
  },
  {
   "cell_type": "markdown",
   "id": "638fd30c-aaa9-48eb-8f10-4b0b15832974",
   "metadata": {},
   "source": [
    "**Exercise 7**. Print the last two elements of the French-speaking cities in the following nested list and then remove the element that does not represent a city of Switzerland. "
   ]
  },
  {
   "cell_type": "code",
   "execution_count": null,
   "id": "82edc36d-46de-4493-abc8-82c3cfd8cf38",
   "metadata": {},
   "outputs": [],
   "source": [
    "cities = [[\"Lausanne\", \"Geneva\", \"Sion\"], [\"Bern\", \"Basel\", \"Zürich\"], \"Auckland\", [\"Lugano\"]]\n",
    "### Insert your code here"
   ]
  },
  {
   "cell_type": "markdown",
   "id": "32afdd9e-aba8-42c5-a168-7ef1a09382c4",
   "metadata": {
    "tags": []
   },
   "source": [
    "**Exercise 8**. Compute the mean and the variance of all the numbers in the following list."
   ]
  },
  {
   "cell_type": "code",
   "execution_count": null,
   "id": "b39f12eb-0a3b-4dad-b9d7-e0f6a056af91",
   "metadata": {},
   "outputs": [],
   "source": [
    "numbers = [5, 11, 4, 0, 3, 23, 41, 2, 25, 42, 13, 7, 4, 14, 19]\n",
    "### Insert your code here"
   ]
  },
  {
   "cell_type": "markdown",
   "id": "8acccfec-e600-4af3-9c76-2fffa66b68e3",
   "metadata": {},
   "source": [
    "### Dictionaries\n",
    "\n",
    "Dictionaries are another useful built-in datatype. They simply represent a map between two sets: the **keys** and the **values**. They are the natural representation of a .json file in a python object. Dictionaries, similarly to lists and sets, can be created by direct definition or by calling the function dict() on an iterable object (this time the elements of the iterable object must have two values each - the key and the value!)"
   ]
  },
  {
   "cell_type": "code",
   "execution_count": null,
   "id": "56a9d4fe-cea4-4d24-b6e8-5e4dbbd0cb36",
   "metadata": {},
   "outputs": [],
   "source": [
    "x = {\n",
    "    \"dog\": \"woof\",\n",
    "    \"cat\": \"meow\",\n",
    "    \"pig\": \"oink\",\n",
    "    \"cow\": \"moo\"\n",
    "}\n",
    "print(\"Animal to sound:\", x)\n",
    "\n",
    "x = dict([[\"dog\", \"woof\"], [\"cat\", \"meow\"], [\"pig\", \"oink\"], [\"cow\", \"moo\"]])\n",
    "print(\"The same dict, but defined in another way: \", x)"
   ]
  },
  {
   "cell_type": "markdown",
   "id": "32290bbd-3610-4af0-97a7-b48a31b97dc4",
   "metadata": {},
   "source": [
    "Accessing the values stored in a dictionary can be done by key (through the function .get() or through square brackets):"
   ]
  },
  {
   "cell_type": "code",
   "execution_count": null,
   "id": "10751bbd-ec39-4568-b4cb-877835ee02f2",
   "metadata": {},
   "outputs": [],
   "source": [
    "sound = x[\"dog\"]\n",
    "print(\"The dog's call is\", sound)\n",
    "\n",
    "sound = x.get(\"cow\")\n",
    "print(\"The cow's call is\", sound)"
   ]
  },
  {
   "cell_type": "markdown",
   "id": "5a5a7c7f-7136-4156-816e-89344548e032",
   "metadata": {},
   "source": [
    "To add an element to a dictionary or to change the value associated to a certain key you can either use the square brackets or the function update()"
   ]
  },
  {
   "cell_type": "code",
   "execution_count": null,
   "id": "c9c0031d-ddff-4e26-af8b-0114f5f882e9",
   "metadata": {},
   "outputs": [],
   "source": [
    "x[\"donkey\"] = \"hee-haw\"\n",
    "x.update({\"owl\": \"hoot\"})\n",
    "print(x)"
   ]
  },
  {
   "cell_type": "markdown",
   "id": "a3f48027-dc6e-4bd6-81d8-a9a79b9eb0a7",
   "metadata": {},
   "source": [
    "You can access the keys of your dictionary with the function <code>keys()</code> which returns a dict_keys object. For simplicity, you can convert this object in a list using the function <code>list()</code>"
   ]
  },
  {
   "cell_type": "code",
   "execution_count": null,
   "id": "7e45bf0b-3b69-4d42-8688-b05e9035795a",
   "metadata": {},
   "outputs": [],
   "source": [
    "keyset = list(x.keys())\n",
    "print(\"The keys in the dictionary are: \", keyset)"
   ]
  },
  {
   "cell_type": "markdown",
   "id": "7e8457f2-4ea6-4cc5-8a41-ab5144c1a33c",
   "metadata": {},
   "source": [
    "And of course you can iterate through a dictionary. Calling a for loop through a dictionary actually iterates through its keyset. If you want to iterate through the dictionary's keys and values simultaneously, you can use the handy method <code>items()</code>"
   ]
  },
  {
   "cell_type": "code",
   "execution_count": null,
   "id": "46ad3bb5-0696-4559-9b3e-306c75a99dea",
   "metadata": {},
   "outputs": [],
   "source": [
    "for key in x:\n",
    "    print(\"The iteration variable is: \", key)\n",
    "    print(\"And I can use it to access the value: \", x[key])\n",
    "\n",
    "print('')\n",
    "print(\"But I can also access the key and the value together\")\n",
    "for key, value in x.items():\n",
    "    print(\"key: {}, value: {}\".format(key,value))"
   ]
  },
  {
   "cell_type": "markdown",
   "id": "2b1bc305-b813-4681-8f8d-e66804497564",
   "metadata": {},
   "source": [
    "Important! Dictionaries are not ordered collections, so it is not possible to get their elements by index."
   ]
  },
  {
   "cell_type": "markdown",
   "id": "fe525275-4eac-4ce0-9d6d-0b2c84f53224",
   "metadata": {},
   "source": [
    "**Exercise 9**. Create a dictionary where the keys are numbers between 1 and 10 (both included) and the values are the square of the keys."
   ]
  },
  {
   "cell_type": "code",
   "execution_count": null,
   "id": "36893d18-c76e-4132-99b0-c0ee83889bb5",
   "metadata": {},
   "outputs": [],
   "source": [
    "### Insert your code here"
   ]
  },
  {
   "cell_type": "markdown",
   "id": "16734967-9f26-4cd5-a761-3ab59216778b",
   "metadata": {},
   "source": [
    "### General exercises"
   ]
  },
  {
   "cell_type": "markdown",
   "id": "d5072271-0d12-4fc6-80a2-f360ddf63af5",
   "metadata": {},
   "source": [
    "Now it's time to use all the concepts you have learned today and put them together!"
   ]
  },
  {
   "cell_type": "markdown",
   "id": "3f9e0e37-a1ef-4934-8b0e-399b9bed4572",
   "metadata": {},
   "source": [
    "**Exercise 10**. Write some code which, given an input integer N, computes all the prime numbers up to N and stores them in a list."
   ]
  },
  {
   "cell_type": "code",
   "execution_count": null,
   "id": "387bf032-652d-450d-8ac3-fce0918e7f5f",
   "metadata": {},
   "outputs": [],
   "source": [
    "### Insert your code here"
   ]
  },
  {
   "cell_type": "markdown",
   "id": "666b799a",
   "metadata": {},
   "source": [
    "**Exercise 11 (BONUS)**. This exercise is a little two-player game. Write an algorithm that guesses a particular number that the other player knows in the fastest possible way. For simplicity, you can use the <code>random</code> package to generate a random number from the interval [1,100] to select the guessed number. After guessing a number, your program should tell you if the guessed number is the correct one, or if it is smaller or greater than the target one. Then, based on this information, you guess a new number and perform the previous steps in an iterative way. Count the number of steps until you found the number."
   ]
  },
  {
   "cell_type": "code",
   "execution_count": null,
   "id": "dbf941e0",
   "metadata": {},
   "outputs": [],
   "source": [
    "import random\n",
    "target = random.randint(1, 100)\n",
    "### Insert your code here"
   ]
  }
 ],
 "metadata": {
  "kernelspec": {
   "display_name": "Python 3 (ipykernel)",
   "language": "python",
   "name": "python3"
  },
  "language_info": {
   "codemirror_mode": {
    "name": "ipython",
    "version": 3
   },
   "file_extension": ".py",
   "mimetype": "text/x-python",
   "name": "python",
   "nbconvert_exporter": "python",
   "pygments_lexer": "ipython3",
   "version": "3.8.13"
  }
 },
 "nbformat": 4,
 "nbformat_minor": 5
}
