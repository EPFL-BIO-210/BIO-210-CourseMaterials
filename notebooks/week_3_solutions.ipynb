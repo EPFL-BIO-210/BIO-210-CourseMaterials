{
 "cells": [
  {
   "cell_type": "markdown",
   "metadata": {},
   "source": [
    "BIO-210: Applied software engineering for life sciences\n",
    "# Python Introduction III - Numpy 2 and branching operations"
   ]
  },
  {
   "cell_type": "markdown",
   "metadata": {},
   "source": [
    "## A deeper dive into Numpy\n",
    "**Numpy** is a widely used Python library for scientific computing. During the last lesson you already learnt quite a few features of **Numpy**. Today, let's explore more features!"
   ]
  },
  {
   "cell_type": "code",
   "execution_count": 1,
   "metadata": {},
   "outputs": [],
   "source": [
    "import numpy as np"
   ]
  },
  {
   "cell_type": "markdown",
   "metadata": {},
   "source": [
    "### Slicing operations (refresh)"
   ]
  },
  {
   "cell_type": "markdown",
   "metadata": {},
   "source": [
    "Let's review together how to index a multi-dimensional array using slicing"
   ]
  },
  {
   "cell_type": "code",
   "execution_count": 2,
   "metadata": {},
   "outputs": [
    {
     "name": "stdout",
     "output_type": "stream",
     "text": [
      "By default, indexing with colon will return all rows and columns\n",
      "[[  1   2   3   4   5   6   7   8   9  10]\n",
      " [ 11  12  13  14  15  16  17  18  19  20]\n",
      " [ 21  22  23  24  25  26  27  28  29  30]\n",
      " [ 31  32  33  34  35  36  37  38  39  40]\n",
      " [ 41  42  43  44  45  46  47  48  49  50]\n",
      " [ 51  52  53  54  55  56  57  58  59  60]\n",
      " [ 61  62  63  64  65  66  67  68  69  70]\n",
      " [ 71  72  73  74  75  76  77  78  79  80]\n",
      " [ 81  82  83  84  85  86  87  88  89  90]\n",
      " [ 91  92  93  94  95  96  97  98  99 100]]\n",
      "We can define the start at the end of indexed rows\n",
      "[[11 12 13 14 15 16 17 18 19 20]\n",
      " [21 22 23 24 25 26 27 28 29 30]]\n",
      "or the start at the end of indexed columns\n",
      "[[ 2  3]\n",
      " [12 13]\n",
      " [22 23]\n",
      " [32 33]\n",
      " [42 43]\n",
      " [52 53]\n",
      " [62 63]\n",
      " [72 73]\n",
      " [82 83]\n",
      " [92 93]]\n",
      "We can also specify the start and the end for both rows and columns\n",
      "[[42 43]\n",
      " [52 53]\n",
      " [62 63]]\n"
     ]
    }
   ],
   "source": [
    "a = np.arange(1,101).reshape(10,10)\n",
    "\n",
    "print('By default, indexing with colon will return all rows and columns')\n",
    "b = a[:,:]  #[all rows, all columns]\n",
    "print(b)\n",
    "\n",
    "print('We can define the start at the end of indexed rows')\n",
    "b = a[1:3,:]  #[all rows, all columns]\n",
    "print(b)\n",
    "\n",
    "print('or the start at the end of indexed columns')\n",
    "b = a[:,1:3]  #[all rows, all columns]\n",
    "print(b)\n",
    "\n",
    "print('We can also specify the start and the end for both rows and columns')\n",
    "b = a[4:7,1:3]  #[all rows, all columns]\n",
    "print(b)"
   ]
  },
  {
   "cell_type": "markdown",
   "metadata": {},
   "source": [
    "Sometimes, it can be useful to skip indexes. This can be achieved by adding another colon (:) and the value that specify how many values you want to skip. Therefore, we can summarize all slicing operations with the following notation [start_idx : end_idx : skip_idx]."
   ]
  },
  {
   "cell_type": "code",
   "execution_count": 3,
   "metadata": {},
   "outputs": [
    {
     "name": "stdout",
     "output_type": "stream",
     "text": [
      "Print every fourth rows\n",
      "[[ 1  2  3  4  5  6  7  8  9 10]\n",
      " [41 42 43 44 45 46 47 48 49 50]\n",
      " [81 82 83 84 85 86 87 88 89 90]]\n"
     ]
    }
   ],
   "source": [
    "print('Print every fourth rows')\n",
    "b = a[::4,:]\n",
    "print(b)"
   ]
  },
  {
   "cell_type": "markdown",
   "metadata": {},
   "source": [
    "**Exercise 0** Index matrix <code>a</code> and print all even numbers between 40 (excluded) and 70."
   ]
  },
  {
   "cell_type": "code",
   "execution_count": 4,
   "metadata": {},
   "outputs": [
    {
     "name": "stdout",
     "output_type": "stream",
     "text": [
      "[[42 44 46 48 50]\n",
      " [52 54 56 58 60]\n",
      " [62 64 66 68 70]]\n"
     ]
    }
   ],
   "source": [
    "b = a[4:7,1::2]  #[all rows, all columns]\n",
    "print(b)"
   ]
  },
  {
   "cell_type": "markdown",
   "metadata": {},
   "source": [
    "### Basic statistical functions\n",
    "NumPy contains various statistical functions that are used for data analysis. These functions are useful, for example, to find the maximum or the minimum element of a vector. It is also used to compute common statistical operations like standard deviation, variance, etc."
   ]
  },
  {
   "cell_type": "markdown",
   "metadata": {},
   "source": [
    "The functions <code>mean</code> and <code>std</code> are used to caculate the mean and standard deviation of the input data (e.g., of an array). Besides caculating the result for the whole data, they can also be used to caculate it along a specific axis."
   ]
  },
  {
   "cell_type": "code",
   "execution_count": 5,
   "metadata": {},
   "outputs": [
    {
     "name": "stdout",
     "output_type": "stream",
     "text": [
      "The full matrix:\n",
      " [[1 2]\n",
      " [3 4]]\n",
      "The mean of the whole matrix is: 2.5\n",
      "The standard deviation of the whole matrix is: 1.118033988749895\n",
      "The mean of each column is: [2. 3.]\n",
      "The mean of each row is: [1.5 3.5]\n",
      "The standard deviation of each column is: [1. 1.]\n"
     ]
    }
   ],
   "source": [
    "a = np.array([[1, 2], [3, 4]])\n",
    "\n",
    "print(\"The full matrix:\\n\", a)\n",
    "print(\"The mean of the whole matrix is:\", np.mean(a))\n",
    "print(\"The standard deviation of the whole matrix is:\", np.std(a))\n",
    "print(\"The mean of each column is:\", np.mean(a, axis=0))\n",
    "print(\"The mean of each row is:\", np.mean(a, axis=1))\n",
    "print(\"The standard deviation of each column is:\", np.std(a, axis=0))"
   ]
  },
  {
   "cell_type": "markdown",
   "metadata": {},
   "source": [
    "Now, let's generate a random array drawn from a gaussian distribution N(3, 6.25). The function <code>random.randn</code> samples values from a standard gaussian distribution N(0, 1). Therefore, to get a gaussian distribution distribution N(3, 6.25), we need to multiply the vector by the standard deviation (i.e., sqrt(6.25)) and by adding the mean (i.e., 3)."
   ]
  },
  {
   "cell_type": "code",
   "execution_count": 6,
   "metadata": {},
   "outputs": [],
   "source": [
    "a = 3 + 2.5 * np.random.randn(2, 4)"
   ]
  },
  {
   "cell_type": "markdown",
   "metadata": {},
   "source": [
    "**Exercise 1.** Calculate the mean and standard deviation first of the whole matrix <code>a</code> and then along the first axis of matrix <code>a</code>."
   ]
  },
  {
   "cell_type": "code",
   "execution_count": 7,
   "metadata": {},
   "outputs": [
    {
     "name": "stdout",
     "output_type": "stream",
     "text": [
      "3.3400938885194584\n",
      "3.335112472892346\n",
      "[3.03192444 2.22066263 0.5542242  7.55356429]\n",
      "[2.83010726 0.60004796 0.61868164 2.97944151]\n"
     ]
    }
   ],
   "source": [
    "print(np.mean(a))\n",
    "print(np.std(a))\n",
    "print(np.mean(a, axis=0))\n",
    "print(np.std(a, axis=0))"
   ]
  },
  {
   "cell_type": "markdown",
   "metadata": {},
   "source": [
    "Is it close to what you expect? How would you create another matrix <code>a</code>, in which the mean and the standard deviation are closer to the expected ones? "
   ]
  },
  {
   "cell_type": "code",
   "execution_count": 8,
   "metadata": {},
   "outputs": [
    {
     "name": "stdout",
     "output_type": "stream",
     "text": [
      "2.9972010557293767\n",
      "2.526760827735842\n",
      "[2.93977012 2.67531536 2.64582574 3.0366958  2.80564266 2.96795986\n",
      " 3.23718672 3.35431732 3.09617258 3.3013108  3.01359204 2.89913368\n",
      " 3.10376674 3.20444616 2.84747505 3.0568911  3.20573066 3.64646284\n",
      " 2.88786644 2.9405187  3.05102207 2.8862812  2.78374621 3.22978878\n",
      " 2.8786577  3.44023758 3.09315937 2.99595657 2.72162686 2.8824967\n",
      " 3.06304732 2.83305737 3.32156959 2.82123933 3.10193946 3.34228334\n",
      " 3.03916623 3.194378   2.99524997 3.28241791 3.35925161 2.9336327\n",
      " 3.26252065 2.70419027 3.04390184 2.82071582 3.11548466 3.05862928\n",
      " 3.16383861 3.11822985 2.97376327 2.98662305 3.06257487 3.10307016\n",
      " 2.84663759 3.29832327 2.71905212 2.75860917 3.16968533 2.6019555\n",
      " 3.02340248 2.85785546 2.5696728  2.59577458 2.70063319 2.9484885\n",
      " 2.84804535 2.38976831 3.18401271 3.27267841 3.08745655 2.97265724\n",
      " 3.22999134 3.15421163 3.09805708 3.26255257 2.94122329 2.62946888\n",
      " 2.97017555 2.81752911 2.96726081 3.0767243  3.11521174 2.85332985\n",
      " 2.79560272 2.97269301 3.22876684 3.19978109 3.19850484 2.5325624\n",
      " 3.0475771  2.80284679 3.31321867 3.02495159 2.74612402 2.5795925\n",
      " 3.04114904 2.53718438 2.94898329 3.26029399]\n",
      "[2.28314463 2.37981005 2.43582038 2.53409194 2.50780141 2.5820544\n",
      " 2.7985307  2.4188159  2.05667921 2.42125394 2.6470456  2.40977813\n",
      " 2.61341986 2.49431751 2.36587172 2.54755917 2.5548877  2.41368987\n",
      " 2.68511353 2.67218622 2.47760977 2.36665485 2.7514921  2.45224271\n",
      " 2.8253908  2.48014872 2.50558395 2.93248338 2.17265234 2.3514716\n",
      " 2.07002736 2.5237126  2.61594773 2.87298009 2.81604966 2.37681334\n",
      " 2.28674902 2.53497288 2.65962014 2.42842724 2.70177453 2.64364801\n",
      " 2.43533701 2.49101159 2.42340082 2.38624554 2.43128895 2.21837156\n",
      " 2.59064266 2.24864798 2.37387803 2.57524424 2.57190029 2.62603959\n",
      " 2.77575097 2.55051189 2.66169462 2.81856075 2.35584925 2.38249969\n",
      " 2.50115333 2.48094639 2.37327841 2.39048376 2.15377513 2.52425675\n",
      " 2.38858138 2.319758   2.57592618 2.53926962 2.49352902 2.69015284\n",
      " 2.44635635 2.42097904 2.73266956 2.62560067 2.53692887 2.31013604\n",
      " 2.66024315 2.27697457 2.63194563 2.56399511 2.67910158 2.58814017\n",
      " 2.63984496 2.60030315 2.55569779 2.51307775 2.43810854 2.87404224\n",
      " 2.46298727 2.68312865 2.56526576 2.50615389 2.5456144  2.48682565\n",
      " 2.34640196 2.58897062 2.33311353 2.45393079]\n"
     ]
    }
   ],
   "source": [
    "a = 3 + 2.5 * np.random.randn(100, 100)\n",
    "print(np.mean(a))\n",
    "print(np.std(a))\n",
    "print(np.mean(a, axis=0))\n",
    "print(np.std(a, axis=0))"
   ]
  },
  {
   "cell_type": "markdown",
   "metadata": {},
   "source": [
    "**Exercise 2.** Besides <code>mean</code> and <code>std</code>, **Numpy** also offers the functions <code>min</code>, <code>max</code>, <code>median</code>, <code>argmin</code>, <code>argmax</code> to caculate the minimum, maximum and median values, index of the minimum and index of the maximum of the array. Apply these functions to the matrix <code>a</code> and along its axis 0 (think of it as coordinates of your array, with axis 0 along rows and axis 1 along columns). Take a better look at the example above to help you understand the importance of this parameter! If you still feel confused check out [this article](https://www.sharpsightlabs.com/blog/numpy-axes-explained/#numpy-axes-quick-explanation)."
   ]
  },
  {
   "cell_type": "code",
   "execution_count": 9,
   "metadata": {},
   "outputs": [
    {
     "name": "stdout",
     "output_type": "stream",
     "text": [
      "-5.864795313400949\n",
      "12.364914203830594\n",
      "3.0175172918937094\n",
      "4583\n",
      "2354\n",
      "[-3.15408098 -1.72691558 -2.29687686 -4.2244136  -4.73764389 -3.2363633\n",
      " -2.39687128 -3.98986089 -1.45994102 -3.42805819 -3.69126849 -4.2198638\n",
      " -3.98633382 -3.43241219 -3.99090511 -2.17948676 -2.81650535 -1.5773979\n",
      " -3.70162141 -4.6714328  -3.35679637 -2.58016899 -4.36868427 -3.5236138\n",
      " -4.90536247 -2.85404656 -2.48565354 -4.15259483 -2.98869827 -2.84447676\n",
      " -2.15119991 -2.62977778 -2.1864563  -4.27089249 -5.43869544 -2.81083286\n",
      " -1.77298241 -2.39733863 -3.31967885 -1.18588553 -2.33370516 -4.17279934\n",
      " -3.1032587  -2.87695779 -3.49266109 -2.89227965 -2.86329037 -1.36788807\n",
      " -3.33351963 -3.64248158 -1.25286169 -3.11552787 -4.02170759 -4.0232822\n",
      " -3.69497435 -3.93015674 -3.30943856 -5.34103763 -2.98793991 -4.25078621\n",
      " -2.71623253 -5.85529783 -3.45545932 -2.66994509 -2.52944365 -4.16014274\n",
      " -3.40742845 -3.94953284 -2.43652005 -4.63554588 -3.50498084 -3.44392145\n",
      " -2.21960712 -4.30925236 -4.36186185 -4.29919144 -3.66956669 -3.88506618\n",
      " -2.95122658 -2.84743785 -3.65904337 -2.57872616 -4.544992   -5.86479531\n",
      " -3.99469192 -5.26898518 -4.33089224 -2.48419024 -2.31656935 -3.33842416\n",
      " -3.92614222 -4.60086619 -2.70693769 -2.84684837 -4.14264906 -3.10444773\n",
      " -2.6942572  -3.00869519 -2.97965001 -4.11456847]\n",
      "[ 9.656209    9.47505298  8.63039858  9.9897414   8.10791741  9.26779297\n",
      "  9.49108412  8.65278074  8.85164623  9.54868834  8.37118061  8.44533089\n",
      "  9.21802027  9.96999846  8.00693378  9.23878634 10.20649183  7.83189189\n",
      "  9.30148463 11.44125422 11.0245174   8.2940232  10.35466606  9.18769673\n",
      " 11.13795634 10.49647999  8.71062975 10.60293404  7.42083163  7.68472618\n",
      "  7.86275322 11.55636977 10.16223953 11.15088428 10.70615371  8.41902226\n",
      "  8.59662241 10.06611291 10.53884946 10.19608075  9.85109181  9.87992264\n",
      " 10.88603118  8.67641955  8.04403546  8.80253294  8.9332808  10.80103641\n",
      "  9.95476085  8.01904576 10.94495014  9.24669506  9.57943906 10.14571019\n",
      " 12.3649142   9.61399829  8.39505985  9.19786854 10.6965319   7.44397706\n",
      "  7.9129648   9.38535543  7.7949156  10.55981353  8.8217587   8.90794591\n",
      "  9.70508286  8.10105778  8.64604235  8.94898029  9.87852673 10.28051189\n",
      "  8.65107289  8.69100633  9.85484266 10.48079046  7.72366177  8.09263087\n",
      " 11.03321034  7.69338815  8.6309763   9.06815523  9.44681105 10.10460319\n",
      "  8.08176694  9.96232185  8.18731607 10.07346007 10.21781964  9.05156991\n",
      " 10.03708273  7.80394735 10.36045151  9.68852138 10.05950621  8.23294144\n",
      "  9.28673814 11.39478457  7.71127006  8.84276326]\n",
      "[2.89601367 2.64696797 2.91296824 2.83760869 2.87297225 3.00382394\n",
      " 3.24852749 3.39780772 3.29568717 3.36503471 2.69900763 2.72062704\n",
      " 3.63490917 3.19021296 2.77788933 3.23441732 3.44420094 3.5891657\n",
      " 2.82639058 2.99022399 3.22729623 2.90111909 2.79329718 3.16530174\n",
      " 2.88865504 3.55509127 3.01626423 3.14553261 2.6333074  2.95384973\n",
      " 3.24716027 2.83051461 3.18452755 2.72566046 3.24176091 3.30406227\n",
      " 3.30814761 3.11647855 3.13187258 3.33679503 3.27027198 2.82928669\n",
      " 3.11351066 2.61506157 3.39386515 2.8777656  3.21583229 3.29315715\n",
      " 3.24974035 3.002514   3.0197848  2.64674038 3.24871792 2.73125715\n",
      " 3.29593248 3.19253864 3.15825912 2.80431572 3.30726813 2.75004271\n",
      " 3.13531637 2.78385904 2.90385984 2.16134954 2.94507702 3.00951484\n",
      " 2.75329807 2.58200135 2.81256446 3.34516587 2.92420046 2.50927405\n",
      " 3.54801421 3.11735055 3.15099265 2.80800499 3.25019873 2.80553159\n",
      " 2.88374949 2.77835856 3.06657111 3.37503532 3.19302633 3.05986586\n",
      " 2.47313995 3.13276117 3.11478879 3.55401605 3.21418093 2.82363256\n",
      " 2.83952015 2.9238997  3.24988572 3.13117635 2.43791736 2.39560258\n",
      " 3.28814455 2.63355263 2.99119786 3.73097809]\n",
      "[26 91 86 88 21 22  9 31 29 86 78 59 79  6 61 62 45 42 73 21 66 81 42 15\n",
      " 76 71 90 59 17 93 80 54 83 52 77 73 59 60 65 46 42 51 32 92 89 78  1 88\n",
      "  3 35  1 34  1 88 86 75 33 50  3 60  3 28 44 61 98 62  5 95 33 58  8 25\n",
      " 43 39 54 69 68 65 99 87 77  4 41 45 88 76 80 48 70 16 71 28 67 17 90 54\n",
      " 79 42 74 85]\n",
      "[21 31 16 51 46 75 43 17 18  7 65 11 11 56 27 50 49 55 52 23 44 79 16  4\n",
      " 32 48 28 22 30 83 75 34 45 37 48 23 93 45 56 99 15 42  1 31 41 86 32 39\n",
      " 75 43 75 83 74 41 23 84 59 81 44 17 81  9 58 39  1 20 37 18 98 69 71 32\n",
      " 92 90 31 89 26 43 15 14 50  7 38 95 21 12 98 88 44 38 34 32 30 49  4  8\n",
      " 46 43 62 53]\n"
     ]
    }
   ],
   "source": [
    "print(np.amin(a))\n",
    "print(np.amax(a))\n",
    "print(np.median(a))\n",
    "print(np.argmin(a))\n",
    "print(np.argmax(a))\n",
    "print(np.amin(a, axis=0))\n",
    "print(np.amax(a, axis=0))\n",
    "print(np.median(a, axis=0))\n",
    "print(np.argmin(a, axis=0))\n",
    "print(np.argmax(a, axis=0))"
   ]
  },
  {
   "cell_type": "markdown",
   "metadata": {},
   "source": [
    "**Numpy** also supports non-standard numbers, such as **np.inf**, which represents infinity, and **np.nan**, which represents \"not-a-number\". These can be the results of operations such as division by 0:"
   ]
  },
  {
   "cell_type": "code",
   "execution_count": 11,
   "metadata": {},
   "outputs": [
    {
     "name": "stdout",
     "output_type": "stream",
     "text": [
      "Dividing by 0 can generate np.nan or np.inf (also negative) as a result: [ nan  inf -inf]\n"
     ]
    },
    {
     "name": "stderr",
     "output_type": "stream",
     "text": [
      "<ipython-input-11-1d7df589b35e>:1: RuntimeWarning: divide by zero encountered in true_divide\n",
      "  a = np.array([0, 1, -4]) / 0\n",
      "<ipython-input-11-1d7df589b35e>:1: RuntimeWarning: invalid value encountered in true_divide\n",
      "  a = np.array([0, 1, -4]) / 0\n"
     ]
    }
   ],
   "source": [
    "a = np.array([0, 1, -4]) / 0\n",
    "print(\"Dividing by 0 can generate np.nan or np.inf (also negative) as a result:\", a)"
   ]
  },
  {
   "cell_type": "markdown",
   "metadata": {},
   "source": [
    "Standard operations, when applied to data containing np.nan, will also return **np.nan**:"
   ]
  },
  {
   "cell_type": "code",
   "execution_count": 12,
   "metadata": {},
   "outputs": [
    {
     "name": "stdout",
     "output_type": "stream",
     "text": [
      "The mean of a vector with a NaN is:  nan\n"
     ]
    }
   ],
   "source": [
    "a = [0, np.nan, 1]\n",
    "print(\"The mean of a vector with a NaN is: \", np.mean(a))"
   ]
  },
  {
   "cell_type": "markdown",
   "metadata": {},
   "source": [
    "However, **Numpy** offers functions that can ignore NaNs, such as <code>nanmax</code>, <code>nanmin</code> and <code>nanmean</code> . Let's create an array including NaN values and test these functions."
   ]
  },
  {
   "cell_type": "markdown",
   "metadata": {},
   "source": [
    "**Exercise 3.** Apply the following functions of numpy to the array a: <code>amax</code>, <code>amin</code> and <code>nanmax</code>, <code>nanmin</code>."
   ]
  },
  {
   "cell_type": "code",
   "execution_count": 13,
   "metadata": {},
   "outputs": [
    {
     "name": "stdout",
     "output_type": "stream",
     "text": [
      "nan\n",
      "nan\n",
      "1.0\n",
      "inf\n"
     ]
    }
   ],
   "source": [
    "a = np.array([1, 2, np.nan, np.inf])\n",
    "print(np.amin(a))\n",
    "print(np.amax(a))\n",
    "print(np.nanmin(a))\n",
    "print(np.nanmax(a))"
   ]
  },
  {
   "cell_type": "markdown",
   "metadata": {},
   "source": [
    "**Exercise 4.** We want to write some code which, given a point, finds the closest one in a set of other points. Such a function is important, for example, in information theory, as it is the basic operation of the vector quantization (VQ) algorithm. In the simple, two-dimensional case shown below, the values refer to the weight and height of an athlete. The set of weights and heights represents different classes of athletes. We want to assign the athlete to the class it is closest to. Finding the closest point requires calculating the distance between the athlete's parameters and each of the classes of athletes.\n",
    "Now, let's define an athlete with [weight, height] = [111.0, 188.0], and a list of 4 classes [[102.0, 203.0], [132.0, 193.0], [45.0, 155.0], [57.0, 173.0]]. In the next cell, write some code which returns the index of the class of athletes that the athlete should be assigned to."
   ]
  },
  {
   "cell_type": "code",
   "execution_count": 14,
   "metadata": {},
   "outputs": [
    {
     "name": "stdout",
     "output_type": "stream",
     "text": [
      "(4, 2)\n",
      "0\n"
     ]
    }
   ],
   "source": [
    "observation = np.array([111.0, 188.0])\n",
    "codes = np.array([[102.0, 203.0],\n",
    "               [132.0, 193.0],\n",
    "               [45.0, 155.0],\n",
    "               [57.0, 173.0]])\n",
    "diff = codes - observation    # the broadcast happens here\n",
    "print(diff.shape)\n",
    "dist = np.sqrt(np.sum(diff**2, axis=-1))\n",
    "print(np.argmin(dist))"
   ]
  },
  {
   "cell_type": "markdown",
   "metadata": {},
   "source": [
    "### Linear algebra examples\n",
    "Linear algebra is at the core of Data Science. That's why **NumPy** offers array-like data structures & dedicated operations and methods. Let's first have a look together at the <code>dot</code> function as an example, which computes the matrix multiplication between two vectors or matrices."
   ]
  },
  {
   "cell_type": "code",
   "execution_count": 15,
   "metadata": {},
   "outputs": [
    {
     "name": "stdout",
     "output_type": "stream",
     "text": [
      "a @ b: \n",
      " [[-1 -1 25]\n",
      " [ 6 10 22]\n",
      " [31 27 19]]\n",
      "a @ b: \n",
      " [[-1 -1 25]\n",
      " [ 6 10 22]\n",
      " [31 27 19]]\n"
     ]
    }
   ],
   "source": [
    "a = np.array([[1,2,3],[2,0,3],[7,-5,1]])\n",
    "b = np.array([[3,-1,5],[-2,-6,4], [0,4,4]])\n",
    "print('a @ b: \\n', np.dot(a,b))\n",
    "print('a @ b: \\n', a.dot(b))"
   ]
  },
  {
   "cell_type": "markdown",
   "metadata": {},
   "source": [
    "**Exercise 5.** Define two random matrices, a and b, of sizes (4x2). Transpose b and save in c the matrix product between a and b transposed."
   ]
  },
  {
   "cell_type": "code",
   "execution_count": 16,
   "metadata": {},
   "outputs": [],
   "source": [
    "a = np.random.randn(4, 2)\n",
    "b = np.random.randn(4, 2)\n",
    "b = np.transpose(b)\n",
    "c = np.matmul(a, b)"
   ]
  },
  {
   "cell_type": "markdown",
   "metadata": {},
   "source": [
    "**Exercise 6.** Can the c matrix be inverted? Check it out by computing its determinant and, if it exists, get the inverse matrix."
   ]
  },
  {
   "cell_type": "code",
   "execution_count": 17,
   "metadata": {},
   "outputs": [
    {
     "name": "stdout",
     "output_type": "stream",
     "text": [
      " The determinant is too small \n"
     ]
    }
   ],
   "source": [
    "if np.abs(np.linalg.det(c)) > 1e-6:\n",
    "    inv_c = np.linalg.inv(c)\n",
    "    print(inv_c)\n",
    "else: \n",
    "    print(\"The determinant is too small\")"
   ]
  },
  {
   "cell_type": "markdown",
   "metadata": {},
   "source": [
    "**Exercise 7.** Using the inverse matrix and the matrix-multiplication operator, you can now solve a matrix-vector equation. Let's now find the vector x that solve the following equation Ax = b. Given A equal to ([2,1,-2],[3,0,1],[1,1,-1]]) and b equal to ([-3,5,-2]), compute x."
   ]
  },
  {
   "cell_type": "code",
   "execution_count": 18,
   "metadata": {},
   "outputs": [
    {
     "name": "stdout",
     "output_type": "stream",
     "text": [
      "(3, 1)\n",
      "[[ 1.]\n",
      " [-1.]\n",
      " [ 2.]]\n"
     ]
    }
   ],
   "source": [
    "A = np.array([[2,1,-2],[3,0,1],[1,1,-1]])\n",
    "b = np.transpose(np.array([[-3,5,-2]]))\n",
    "print(b.shape)\n",
    "x = np.matmul(np.linalg.inv(A), b)\n",
    "print(x)"
   ]
  },
  {
   "cell_type": "markdown",
   "metadata": {},
   "source": [
    "**Exercise 8.** Computing the inverse could be very time-consuming. Therefore, it is always better to take advantage of the highly optimized **NumPy** functions to solve linear equations. Try to solve the same exercise as before but using <code>linalg.solve</code> to compute x."
   ]
  },
  {
   "cell_type": "code",
   "execution_count": 38,
   "metadata": {},
   "outputs": [
    {
     "name": "stdout",
     "output_type": "stream",
     "text": [
      "[[ 1.]\n",
      " [-1.]\n",
      " [ 2.]]\n"
     ]
    }
   ],
   "source": [
    "x = np.linalg.solve(A,b)\n",
    "print(x)"
   ]
  },
  {
   "cell_type": "markdown",
   "metadata": {},
   "source": [
    "## Branching operation"
   ]
  },
  {
   "cell_type": "markdown",
   "metadata": {},
   "source": [
    "### *if*, *else* and *elif*\n",
    "In Python, similarly to all of the C-like languages, branching operations are implemented using the **if** keyword. If the expression is true, the statement following it will be executed. Otherwise, it is possible to specify the statement to execute in case of the expression is false, by using the *else* keyword. Both **if** and **else** need a colon (:) at the line, as in the following example:"
   ]
  },
  {
   "cell_type": "code",
   "execution_count": 19,
   "metadata": {},
   "outputs": [
    {
     "name": "stdout",
     "output_type": "stream",
     "text": [
      "The random number is negative\n"
     ]
    }
   ],
   "source": [
    "r = np.random.randn()\n",
    "if r > 0:\n",
    "    print(\"The random number is positive\")\n",
    "else:\n",
    "    print(\"The random number is negative\")"
   ]
  },
  {
   "cell_type": "markdown",
   "metadata": {},
   "source": [
    "In case you want to create multiple branches by applying more than one condition, you can use the keyword **elif** as in the following example:"
   ]
  },
  {
   "cell_type": "code",
   "execution_count": 20,
   "metadata": {},
   "outputs": [
    {
     "name": "stdout",
     "output_type": "stream",
     "text": [
      "meow\n"
     ]
    }
   ],
   "source": [
    "animal = \"cat\"\n",
    "\n",
    "if animal == \"cat\":\n",
    "    print(\"meow\")\n",
    "elif animal == \"dog\":\n",
    "    print(\"woof\")\n",
    "elif animal == \"cow\":\n",
    "    print(\"moo\")\n",
    "else:\n",
    "    print(f\"I don't know  the {animal}'s call, sorry :(\")"
   ]
  },
  {
   "cell_type": "markdown",
   "metadata": {},
   "source": [
    "**Exercise 9.** Let's try to implement a calculator using **if**, **else** and **elif**. The head of the calculator is already written as the following. You can input a, b and option when running the code. Now please finish the calculation."
   ]
  },
  {
   "cell_type": "code",
   "execution_count": 21,
   "metadata": {},
   "outputs": [
    {
     "name": "stdout",
     "output_type": "stream",
     "text": [
      "Welcome to CALCULATOR!\n",
      "Choose one of the following operations:\n",
      "1 - addition\n",
      "2 - subtraction\n",
      "3 - multiplication\n",
      "4 - division\n",
      "result: 3.000000\n",
      "The result is  3.0\n"
     ]
    }
   ],
   "source": [
    "print(\"Welcome to CALCULATOR!\")\n",
    "\n",
    "a = float(input(\"Enter the first number: \"))\n",
    "b = float(input(\"Enter the second number: \"))\n",
    "\n",
    "print(\"Choose one of the following operations:\")\n",
    "print(\"1 - addition\")\n",
    "print(\"2 - subtraction\")\n",
    "print(\"3 - multiplication\")\n",
    "print(\"4 - division\")\n",
    "\n",
    "option = int(input(\"\"))\n",
    "\n",
    "if (option == 1):\n",
    "    result = a + b\n",
    "elif (option == 2):\n",
    "    result = a - b\n",
    "elif (option == 3):\n",
    "    result = a * b\n",
    "elif (option == 4):\n",
    "    result = a / b\n",
    "if option > 0 and option < 5:\n",
    "    print(\"result: %f\" % (result))\n",
    "else:\n",
    "    print(\"Invalid option\")\n",
    "    \n",
    "print(\"The result is \", result)"
   ]
  },
  {
   "cell_type": "markdown",
   "metadata": {},
   "source": [
    "### *break* and *continue*\n",
    "\n",
    "The **break** statement in Python terminates the current loop and resumes execution at the next statement, just like the traditional *break* found in C. On the other hand, the **continue** statement skips all the remaining code in the current iteration of the loop and moves the control back to the top of the loop."
   ]
  },
  {
   "cell_type": "markdown",
   "metadata": {},
   "source": [
    "**Exercise 10.** Try to use for loop and continue to remove all the \"h\"s in the string \"hello, haha, python\"."
   ]
  },
  {
   "cell_type": "code",
   "execution_count": 22,
   "metadata": {},
   "outputs": [
    {
     "name": "stdout",
     "output_type": "stream",
     "text": [
      "['e', 'l', 'l', 'o', ',', ' ', 'a', 'a', ',', ' ', 'p', 'y', 't', 'o', 'n']\n"
     ]
    }
   ],
   "source": [
    "str_1 =  \"hello, haha, python\"\n",
    "str_2 = []\n",
    "for letter in str_1:\n",
    "    if letter == 'h':\n",
    "        continue\n",
    "    str_2.append(letter)\n",
    "print(str_2)"
   ]
  },
  {
   "cell_type": "markdown",
   "metadata": {},
   "source": [
    "**Exercise 11.** Try to use for loop and break to only keep the letters before \"p\" in the string \"hello, haha, python\"."
   ]
  },
  {
   "cell_type": "code",
   "execution_count": 23,
   "metadata": {},
   "outputs": [
    {
     "name": "stdout",
     "output_type": "stream",
     "text": [
      "['h', 'e', 'l', 'l', 'o', ',', ' ', 'h', 'a', 'h', 'a', ',', ' ']\n"
     ]
    }
   ],
   "source": [
    "str_1 =  \"hello, haha, python\"\n",
    "str_2 = []\n",
    "for letter in str_1:\n",
    "    if letter == 'p':\n",
    "        break\n",
    "    str_2.append(letter)\n",
    "print(str_2)"
   ]
  }
 ],
 "metadata": {
  "kernelspec": {
   "display_name": "Python 3",
   "language": "python",
   "name": "python3"
  },
  "language_info": {
   "codemirror_mode": {
    "name": "ipython",
    "version": 3
   },
   "file_extension": ".py",
   "mimetype": "text/x-python",
   "name": "python",
   "nbconvert_exporter": "python",
   "pygments_lexer": "ipython3",
   "version": "3.8.8"
  },
  "vscode": {
   "interpreter": {
    "hash": "b0fa6594d8f4cbf19f97940f81e996739fb7646882a419484c72d19e05852a7e"
   }
  }
 },
 "nbformat": 4,
 "nbformat_minor": 2
}
